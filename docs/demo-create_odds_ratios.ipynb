{
 "cells": [
  {
   "cell_type": "markdown",
   "id": "83e16a20",
   "metadata": {},
   "source": [
    "# Demo: Using `create_odds_ratios` in the vivainsights Python Package\n",
    "\n",
    "This notebook demonstrates how to use the `create_odds_ratios` function from the **vivainsights** Python package. The function calculates odds ratios for ordinal metrics against a specified independent variable.\n",
    "\n",
    "In this example, we will:\n",
    "1. Load the demo data (`pq_data`) from the package.\n",
    "2. Use `identify_usage_segments` to create a metric for the independent variable (`UsageSegments_12w`).\n",
    "3. Calculate odds ratios for ordinal metrics against the independent variable using `create_odds_ratios`.\n",
    "4. Visualize the results.\n"
   ]
  },
  {
   "cell_type": "code",
   "execution_count": null,
   "id": "14bb79c7",
   "metadata": {},
   "outputs": [],
   "source": [
    "# Import necessary libraries\n",
    "import vivainsights as vi\n",
    "import pandas as pd\n",
    "import warnings\n",
    "\n",
    "# Suppress warnings for cleaner output\n",
    "warnings.filterwarnings(\"ignore\")"
   ]
  },
  {
   "cell_type": "markdown",
   "id": "a9cc5db8",
   "metadata": {},
   "source": [
    "## Step 1: Load the demo data\n",
    "\n",
    "We will load the sample Person Query dataset (`pq_data`) provided by the **vivainsights** package."
   ]
  },
  {
   "cell_type": "code",
   "execution_count": null,
   "id": "53148e9d",
   "metadata": {},
   "outputs": [],
   "source": [
    "# Load the demo data\n",
    "pq_data = vi.load_pq_data()\n",
    "\n",
    "# Display the first few rows of the dataset\n",
    "pq_data.head()"
   ]
  },
  {
   "cell_type": "markdown",
   "id": "9b6e2684",
   "metadata": {},
   "source": [
    "## Step 2: Create the independent variable using `identify_usage_segments`\n",
    "\n",
    "We will use the `identify_usage_segments` function to classify users into usage segments based on their Copilot actions. The independent variable (`UsageSegments_12w`) will be created using the `metric_str` method, aggregating all columns that start with `Copilot_actions_taken_in_`."
   ]
  },
  {
   "cell_type": "code",
   "execution_count": null,
   "id": "6e77dc58",
   "metadata": {},
   "outputs": [],
   "source": [
    "# Identify usage segments\n",
    "usage_segments_data = vi.identify_usage_segments(\n",
    "    data=pq_data,\n",
    "    metric_str=[\n",
    "        \"Copilot_actions_taken_in_Teams\",\n",
    "        \"Copilot_actions_taken_in_Outlook\",\n",
    "        \"Copilot_actions_taken_in_Excel\",\n",
    "        \"Copilot_actions_taken_in_Word\",\n",
    "        \"Copilot_actions_taken_in_Powerpoint\"\n",
    "    ],\n",
    "    version=\"12w\",\n",
    "    return_type=\"data\"\n",
    ")\n",
    "\n",
    "# Display the first few rows of the updated dataset\n",
    "usage_segments_data.head()"
   ]
  },
  {
   "cell_type": "markdown",
   "id": "18574916",
   "metadata": {},
   "source": [
    "## Step 3: Calculate odds ratios for ordinal metrics\n",
    "\n",
    "We will calculate odds ratios for the following ordinal metrics:\n",
    "- `eSat`\n",
    "- `Initiative`\n",
    "- `Manager_Recommend`\n",
    "- `Resources`\n",
    "- `Speak_My_Mind`\n",
    "- `Wellbeing`\n",
    "- `Work_Life_Balance`\n",
    "- `Workload`\n",
    "\n",
    "The independent variable will be `UsageSegments_12w`."
   ]
  },
  {
   "cell_type": "code",
   "execution_count": null,
   "id": "98f2b746",
   "metadata": {},
   "outputs": [],
   "source": [
    "# Define the ordinal metrics\n",
    "ordinal_metrics = [\n",
    "    \"eSat\", \"Initiative\", \"Manager_Recommend\", \"Resources\",\n",
    "    \"Speak_My_Mind\", \"Wellbeing\", \"Work_Life_Balance\", \"Workload\"\n",
    "]\n",
    "\n",
    "# Calculate odds ratios\n",
    "odds_ratios_table = vi.create_odds_ratios(\n",
    "    data=usage_segments_data,\n",
    "    ord_metrics=ordinal_metrics,\n",
    "    metric=\"UsageSegments_12w\",\n",
    "    ord_item_options=5,  # Assuming a 5-point scale for ordinal metrics\n",
    "    return_type=\"table\"\n",
    ")\n",
    "\n",
    "# Display the odds ratios table\n",
    "odds_ratios_table"
   ]
  },
  {
   "cell_type": "markdown",
   "id": "ba3e8ddf",
   "metadata": {},
   "source": [
    "## Step 4: Visualize the odds ratios\n",
    "\n",
    "We will create a bar plot to visualize the odds ratios for the ordinal metrics."
   ]
  },
  {
   "cell_type": "code",
   "execution_count": null,
   "id": "741925a0",
   "metadata": {},
   "outputs": [],
   "source": [
    "# Visualize odds ratios\n",
    "odds_ratios_plot = vi.create_odds_ratios(\n",
    "    data=usage_segments_data,\n",
    "    ord_metrics=ordinal_metrics,\n",
    "    metric=\"UsageSegments_12w\",\n",
    "    ord_item_options=5,\n",
    "    return_type=\"plot\"\n",
    ")\n",
    "\n",
    "# Display the plot\n",
    "odds_ratios_plot.show()"
   ]
  },
  {
   "cell_type": "markdown",
   "id": "0b9da758",
   "metadata": {},
   "source": [
    "## Summary\n",
    "\n",
    "In this notebook, we demonstrated how to:\n",
    "1. Load the demo data (`pq_data`).\n",
    "2. Create an independent variable (`UsageSegments_12w`) using `identify_usage_segments`.\n",
    "3. Calculate odds ratios for ordinal metrics using `create_odds_ratios`.\n",
    "4. Visualize the results.\n",
    "\n",
    "The `create_odds_ratios` function provides a powerful way to analyze the relationship between ordinal metrics and an independent variable."
   ]
  }
 ],
 "metadata": {
  "language_info": {
   "name": "python"
  }
 },
 "nbformat": 4,
 "nbformat_minor": 5
}
