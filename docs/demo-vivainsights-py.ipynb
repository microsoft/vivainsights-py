{
 "cells": [
  {
   "cell_type": "markdown",
   "id": "5f785227",
   "metadata": {},
   "source": [
    "# Demo Notebook for the vivainsights Python package\n",
    "\n",
    "Welcome to the comprehensive demo of the **vivainsights** Python package! This notebook showcases the full analytical capabilities available for Microsoft Viva Insights data analysis.\n",
    "\n",
    "**vivainsights** is a powerful Python library designed to help you:\n",
    "- 📊 **Visualize** collaboration patterns and organizational metrics\n",
    "- 🔍 **Analyze** employee engagement and wellbeing indicators  \n",
    "- 📈 **Identify** trends, outliers, and areas for improvement\n",
    "- 🌐 **Explore** collaboration networks and organizational dynamics\n",
    "- ⚡ **Generate** actionable insights for leaders and HR teams\n",
    "\n",
    "This demo covers the major function categories with real examples using sample Person Query data.\n",
    "\n",
    "For more information about the package:\n",
    "- [📚 Documentation](https://microsoft.github.io/vivainsights-py/) - Complete API reference and guides\n",
    "- [💻 GitHub Repository](https://github.com/microsoft/vivainsights-py/) - Source code and issue tracking\n",
    "- [🎯 Use Cases](https://microsoft.github.io/vivainsights-py/about.html) - Real-world applications and examples"
   ]
  },
  {
   "cell_type": "markdown",
   "id": "90e53e1a",
   "metadata": {},
   "source": [
    "## Getting Started: Loading Data and Libraries\n",
    "\n",
    "The **vivainsights** package comes with built-in sample datasets that mirror the structure of real Viva Insights exports. The `load_pq_data()` function loads a representative Person Query dataset containing:\n",
    "\n",
    "- **Individual metrics**: Collaboration hours, email activity, meeting patterns\n",
    "- **Organizational attributes**: Function, level, organization, manager status  \n",
    "- **Time series data**: Weekly observations for trend analysis\n",
    "- **Network data**: Collaboration patterns across the organization\n",
    "\n",
    "Let's start by loading the library and exploring the sample data:"
   ]
  },
  {
   "cell_type": "code",
   "execution_count": 1,
   "id": "d74b7daf",
   "metadata": {},
   "outputs": [
    {
     "name": "stderr",
     "output_type": "stream",
     "text": [
      "WARNING: pip is being invoked by an old script wrapper. This will fail in a future version of pip.\n",
      "Please see https://github.com/pypa/pip/issues/5599 for advice on fixing the underlying issue.\n",
      "To avoid this problem you can invoke Python with '-m pip' instead of running pip directly.\n"
     ]
    },
    {
     "data": {
      "text/html": [
       "<pre style=\"white-space:pre;overflow-x:auto;line-height:normal;font-family:Menlo,'DejaVu Sans Mono',consolas,'Courier New',monospace\">Defaulting to user installation because normal site-packages is not writeable\n",
       "</pre>\n"
      ],
      "text/plain": [
       "Defaulting to user installation because normal site-packages is not writeable\n"
      ]
     },
     "metadata": {},
     "output_type": "display_data"
    },
    {
     "data": {
      "text/html": [
       "<pre style=\"white-space:pre;overflow-x:auto;line-height:normal;font-family:Menlo,'DejaVu Sans Mono',consolas,'Courier New',monospace\">Processing c:\\users\\martinchan\\onedrive - microsoft\\documents\\github\\vivainsights-py\n",
       "</pre>\n"
      ],
      "text/plain": [
       "Processing c:\\users\\martinchan\\onedrive - microsoft\\documents\\github\\vivainsights-py\n"
      ]
     },
     "metadata": {},
     "output_type": "display_data"
    },
    {
     "data": {
      "text/html": [
       "<pre style=\"white-space:pre;overflow-x:auto;line-height:normal;font-family:Menlo,'DejaVu Sans Mono',consolas,'Courier New',monospace\">  Installing build dependencies: started\n",
       "</pre>\n"
      ],
      "text/plain": [
       "  Installing build dependencies: started\n"
      ]
     },
     "metadata": {},
     "output_type": "display_data"
    },
    {
     "data": {
      "text/html": [
       "<pre style=\"white-space:pre;overflow-x:auto;line-height:normal;font-family:Menlo,'DejaVu Sans Mono',consolas,'Courier New',monospace\">  Installing build dependencies: finished with status 'done'\n",
       "</pre>\n"
      ],
      "text/plain": [
       "  Installing build dependencies: finished with status 'done'\n"
      ]
     },
     "metadata": {},
     "output_type": "display_data"
    },
    {
     "data": {
      "text/html": [
       "<pre style=\"white-space:pre;overflow-x:auto;line-height:normal;font-family:Menlo,'DejaVu Sans Mono',consolas,'Courier New',monospace\">  Getting requirements to build wheel: started\n",
       "</pre>\n"
      ],
      "text/plain": [
       "  Getting requirements to build wheel: started\n"
      ]
     },
     "metadata": {},
     "output_type": "display_data"
    },
    {
     "data": {
      "text/html": [
       "<pre style=\"white-space:pre;overflow-x:auto;line-height:normal;font-family:Menlo,'DejaVu Sans Mono',consolas,'Courier New',monospace\">  Getting requirements to build wheel: finished with status 'done'\n",
       "</pre>\n"
      ],
      "text/plain": [
       "  Getting requirements to build wheel: finished with status 'done'\n"
      ]
     },
     "metadata": {},
     "output_type": "display_data"
    },
    {
     "data": {
      "text/html": [
       "<pre style=\"white-space:pre;overflow-x:auto;line-height:normal;font-family:Menlo,'DejaVu Sans Mono',consolas,'Courier New',monospace\">  Preparing metadata (pyproject.toml): started\n",
       "</pre>\n"
      ],
      "text/plain": [
       "  Preparing metadata (pyproject.toml): started\n"
      ]
     },
     "metadata": {},
     "output_type": "display_data"
    },
    {
     "data": {
      "text/html": [
       "<pre style=\"white-space:pre;overflow-x:auto;line-height:normal;font-family:Menlo,'DejaVu Sans Mono',consolas,'Courier New',monospace\">  Preparing metadata (pyproject.toml): finished with status 'done'\n",
       "</pre>\n"
      ],
      "text/plain": [
       "  Preparing metadata (pyproject.toml): finished with status 'done'\n"
      ]
     },
     "metadata": {},
     "output_type": "display_data"
    },
    {
     "data": {
      "text/html": [
       "<pre style=\"white-space:pre;overflow-x:auto;line-height:normal;font-family:Menlo,'DejaVu Sans Mono',consolas,'Courier New',monospace\">Requirement already satisfied: seaborn in c:\\users\\martinchan\\appdata\\local\\packages\\pythonsoftwarefoundation.python.3.12_qbz5n2kfra8p0\\localcache\\local-packages\\python312\\site-packages (from vivainsights==0.4.1) (0.13.0)\n",
       "</pre>\n"
      ],
      "text/plain": [
       "Requirement already satisfied: seaborn in c:\\users\\martinchan\\appdata\\local\\packages\\pythonsoftwarefoundation.python.3.12_qbz5n2kfra8p0\\localcache\\local-packages\\python312\\site-packages (from vivainsights==0.4.1) (0.13.0)\n"
      ]
     },
     "metadata": {},
     "output_type": "display_data"
    },
    {
     "data": {
      "text/html": [
       "<pre style=\"white-space:pre;overflow-x:auto;line-height:normal;font-family:Menlo,'DejaVu Sans Mono',consolas,'Courier New',monospace\">Requirement already satisfied: pandas in c:\\users\\martinchan\\appdata\\local\\packages\\pythonsoftwarefoundation.python.3.12_qbz5n2kfra8p0\\localcache\\local-packages\\python312\\site-packages (from vivainsights==0.4.1) (2.1.4)\n",
       "</pre>\n"
      ],
      "text/plain": [
       "Requirement already satisfied: pandas in c:\\users\\martinchan\\appdata\\local\\packages\\pythonsoftwarefoundation.python.3.12_qbz5n2kfra8p0\\localcache\\local-packages\\python312\\site-packages (from vivainsights==0.4.1) (2.1.4)\n"
      ]
     },
     "metadata": {},
     "output_type": "display_data"
    },
    {
     "data": {
      "text/html": [
       "<pre style=\"white-space:pre;overflow-x:auto;line-height:normal;font-family:Menlo,'DejaVu Sans Mono',consolas,'Courier New',monospace\">Requirement already satisfied: matplotlib in c:\\users\\martinchan\\appdata\\local\\packages\\pythonsoftwarefoundation.python.3.12_qbz5n2kfra8p0\\localcache\\local-packages\\python312\\site-packages (from vivainsights==0.4.1) (3.8.2)\n",
       "</pre>\n"
      ],
      "text/plain": [
       "Requirement already satisfied: matplotlib in c:\\users\\martinchan\\appdata\\local\\packages\\pythonsoftwarefoundation.python.3.12_qbz5n2kfra8p0\\localcache\\local-packages\\python312\\site-packages (from vivainsights==0.4.1) (3.8.2)\n"
      ]
     },
     "metadata": {},
     "output_type": "display_data"
    },
    {
     "data": {
      "text/html": [
       "<pre style=\"white-space:pre;overflow-x:auto;line-height:normal;font-family:Menlo,'DejaVu Sans Mono',consolas,'Courier New',monospace\">Requirement already satisfied: matplotlib-inline in c:\\users\\martinchan\\appdata\\local\\packages\\pythonsoftwarefoundation.python.3.12_qbz5n2kfra8p0\\localcache\\local-packages\\python312\\site-packages (from vivainsights==0.4.1) (0.1.6)\n",
       "</pre>\n"
      ],
      "text/plain": [
       "Requirement already satisfied: matplotlib-inline in c:\\users\\martinchan\\appdata\\local\\packages\\pythonsoftwarefoundation.python.3.12_qbz5n2kfra8p0\\localcache\\local-packages\\python312\\site-packages (from vivainsights==0.4.1) (0.1.6)\n"
      ]
     },
     "metadata": {},
     "output_type": "display_data"
    },
    {
     "data": {
      "text/html": [
       "<pre style=\"white-space:pre;overflow-x:auto;line-height:normal;font-family:Menlo,'DejaVu Sans Mono',consolas,'Courier New',monospace\">Requirement already satisfied: scipy in c:\\users\\martinchan\\appdata\\local\\packages\\pythonsoftwarefoundation.python.3.12_qbz5n2kfra8p0\\localcache\\local-packages\\python312\\site-packages (from vivainsights==0.4.1) (1.11.4)\n",
       "</pre>\n"
      ],
      "text/plain": [
       "Requirement already satisfied: scipy in c:\\users\\martinchan\\appdata\\local\\packages\\pythonsoftwarefoundation.python.3.12_qbz5n2kfra8p0\\localcache\\local-packages\\python312\\site-packages (from vivainsights==0.4.1) (1.11.4)\n"
      ]
     },
     "metadata": {},
     "output_type": "display_data"
    },
    {
     "data": {
      "text/html": [
       "<pre style=\"white-space:pre;overflow-x:auto;line-height:normal;font-family:Menlo,'DejaVu Sans Mono',consolas,'Courier New',monospace\">Requirement already satisfied: numpy in c:\\users\\martinchan\\appdata\\local\\packages\\pythonsoftwarefoundation.python.3.12_qbz5n2kfra8p0\\localcache\\local-packages\\python312\\site-packages (from vivainsights==0.4.1) (1.26.2)\n",
       "</pre>\n"
      ],
      "text/plain": [
       "Requirement already satisfied: numpy in c:\\users\\martinchan\\appdata\\local\\packages\\pythonsoftwarefoundation.python.3.12_qbz5n2kfra8p0\\localcache\\local-packages\\python312\\site-packages (from vivainsights==0.4.1) (1.26.2)\n"
      ]
     },
     "metadata": {},
     "output_type": "display_data"
    },
    {
     "data": {
      "text/html": [
       "<pre style=\"white-space:pre;overflow-x:auto;line-height:normal;font-family:Menlo,'DejaVu Sans Mono',consolas,'Courier New',monospace\">Requirement already satisfied: igraph in c:\\users\\martinchan\\appdata\\local\\packages\\pythonsoftwarefoundation.python.3.12_qbz5n2kfra8p0\\localcache\\local-packages\\python312\\site-packages (from vivainsights==0.4.1) (0.11.3)\n",
       "</pre>\n"
      ],
      "text/plain": [
       "Requirement already satisfied: igraph in c:\\users\\martinchan\\appdata\\local\\packages\\pythonsoftwarefoundation.python.3.12_qbz5n2kfra8p0\\localcache\\local-packages\\python312\\site-packages (from vivainsights==0.4.1) (0.11.3)\n"
      ]
     },
     "metadata": {},
     "output_type": "display_data"
    },
    {
     "data": {
      "text/html": [
       "<pre style=\"white-space:pre;overflow-x:auto;line-height:normal;font-family:Menlo,'DejaVu Sans Mono',consolas,'Courier New',monospace\">Requirement already satisfied: plotly in c:\\users\\martinchan\\appdata\\local\\packages\\pythonsoftwarefoundation.python.3.12_qbz5n2kfra8p0\\localcache\\local-packages\\python312\\site-packages (from vivainsights==0.4.1) (5.18.0)\n",
       "</pre>\n"
      ],
      "text/plain": [
       "Requirement already satisfied: plotly in c:\\users\\martinchan\\appdata\\local\\packages\\pythonsoftwarefoundation.python.3.12_qbz5n2kfra8p0\\localcache\\local-packages\\python312\\site-packages (from vivainsights==0.4.1) (5.18.0)\n"
      ]
     },
     "metadata": {},
     "output_type": "display_data"
    },
    {
     "data": {
      "text/html": [
       "<pre style=\"white-space:pre;overflow-x:auto;line-height:normal;font-family:Menlo,'DejaVu Sans Mono',consolas,'Courier New',monospace\">Requirement already satisfied: scikit-learn in c:\\users\\martinchan\\appdata\\local\\packages\\pythonsoftwarefoundation.python.3.12_qbz5n2kfra8p0\\localcache\\local-packages\\python312\\site-packages (from vivainsights==0.4.1) (1.3.2)\n",
       "</pre>\n"
      ],
      "text/plain": [
       "Requirement already satisfied: scikit-learn in c:\\users\\martinchan\\appdata\\local\\packages\\pythonsoftwarefoundation.python.3.12_qbz5n2kfra8p0\\localcache\\local-packages\\python312\\site-packages (from vivainsights==0.4.1) (1.3.2)\n"
      ]
     },
     "metadata": {},
     "output_type": "display_data"
    },
    {
     "data": {
      "text/html": [
       "<pre style=\"white-space:pre;overflow-x:auto;line-height:normal;font-family:Menlo,'DejaVu Sans Mono',consolas,'Courier New',monospace\">Requirement already satisfied: setuptools in c:\\users\\martinchan\\appdata\\local\\packages\\pythonsoftwarefoundation.python.3.12_qbz5n2kfra8p0\\localcache\\local-packages\\python312\\site-packages (from vivainsights==0.4.1) (69.0.2)\n",
       "</pre>\n"
      ],
      "text/plain": [
       "Requirement already satisfied: setuptools in c:\\users\\martinchan\\appdata\\local\\packages\\pythonsoftwarefoundation.python.3.12_qbz5n2kfra8p0\\localcache\\local-packages\\python312\\site-packages (from vivainsights==0.4.1) (69.0.2)\n"
      ]
     },
     "metadata": {},
     "output_type": "display_data"
    },
    {
     "data": {
      "text/html": [
       "<pre style=\"white-space:pre;overflow-x:auto;line-height:normal;font-family:Menlo,'DejaVu Sans Mono',consolas,'Courier New',monospace\">Requirement already satisfied: adjustText in c:\\users\\martinchan\\appdata\\local\\packages\\pythonsoftwarefoundation.python.3.12_qbz5n2kfra8p0\\localcache\\local-packages\\python312\\site-packages (from vivainsights==0.4.1) (1.3.0)\n",
       "</pre>\n"
      ],
      "text/plain": [
       "Requirement already satisfied: adjustText in c:\\users\\martinchan\\appdata\\local\\packages\\pythonsoftwarefoundation.python.3.12_qbz5n2kfra8p0\\localcache\\local-packages\\python312\\site-packages (from vivainsights==0.4.1) (1.3.0)\n"
      ]
     },
     "metadata": {},
     "output_type": "display_data"
    },
    {
     "data": {
      "text/html": [
       "<pre style=\"white-space:pre;overflow-x:auto;line-height:normal;font-family:Menlo,'DejaVu Sans Mono',consolas,'Courier New',monospace\">Requirement already satisfied: texttable&gt;=1.6.2 in c:\\users\\martinchan\\appdata\\local\\packages\\pythonsoftwarefoundation.python.3.12_qbz5n2kfra8p0\\localcache\\local-packages\\python312\\site-packages (from igraph-&gt;vivainsights==0.4.1) (1.7.0)\n",
       "</pre>\n"
      ],
      "text/plain": [
       "Requirement already satisfied: texttable>=1.6.2 in c:\\users\\martinchan\\appdata\\local\\packages\\pythonsoftwarefoundation.python.3.12_qbz5n2kfra8p0\\localcache\\local-packages\\python312\\site-packages (from igraph->vivainsights==0.4.1) (1.7.0)\n"
      ]
     },
     "metadata": {},
     "output_type": "display_data"
    },
    {
     "data": {
      "text/html": [
       "<pre style=\"white-space:pre;overflow-x:auto;line-height:normal;font-family:Menlo,'DejaVu Sans Mono',consolas,'Courier New',monospace\">Requirement already satisfied: contourpy&gt;=1.0.1 in c:\\users\\martinchan\\appdata\\local\\packages\\pythonsoftwarefoundation.python.3.12_qbz5n2kfra8p0\\localcache\\local-packages\\python312\\site-packages (from matplotlib-&gt;vivainsights==0.4.1) (1.2.0)\n",
       "</pre>\n"
      ],
      "text/plain": [
       "Requirement already satisfied: contourpy>=1.0.1 in c:\\users\\martinchan\\appdata\\local\\packages\\pythonsoftwarefoundation.python.3.12_qbz5n2kfra8p0\\localcache\\local-packages\\python312\\site-packages (from matplotlib->vivainsights==0.4.1) (1.2.0)\n"
      ]
     },
     "metadata": {},
     "output_type": "display_data"
    },
    {
     "data": {
      "text/html": [
       "<pre style=\"white-space:pre;overflow-x:auto;line-height:normal;font-family:Menlo,'DejaVu Sans Mono',consolas,'Courier New',monospace\">Requirement already satisfied: cycler&gt;=0.10 in c:\\users\\martinchan\\appdata\\local\\packages\\pythonsoftwarefoundation.python.3.12_qbz5n2kfra8p0\\localcache\\local-packages\\python312\\site-packages (from matplotlib-&gt;vivainsights==0.4.1) (0.12.1)\n",
       "</pre>\n"
      ],
      "text/plain": [
       "Requirement already satisfied: cycler>=0.10 in c:\\users\\martinchan\\appdata\\local\\packages\\pythonsoftwarefoundation.python.3.12_qbz5n2kfra8p0\\localcache\\local-packages\\python312\\site-packages (from matplotlib->vivainsights==0.4.1) (0.12.1)\n"
      ]
     },
     "metadata": {},
     "output_type": "display_data"
    },
    {
     "data": {
      "text/html": [
       "<pre style=\"white-space:pre;overflow-x:auto;line-height:normal;font-family:Menlo,'DejaVu Sans Mono',consolas,'Courier New',monospace\">Requirement already satisfied: fonttools&gt;=4.22.0 in c:\\users\\martinchan\\appdata\\local\\packages\\pythonsoftwarefoundation.python.3.12_qbz5n2kfra8p0\\localcache\\local-packages\\python312\\site-packages (from matplotlib-&gt;vivainsights==0.4.1) (4.46.0)\n",
       "</pre>\n"
      ],
      "text/plain": [
       "Requirement already satisfied: fonttools>=4.22.0 in c:\\users\\martinchan\\appdata\\local\\packages\\pythonsoftwarefoundation.python.3.12_qbz5n2kfra8p0\\localcache\\local-packages\\python312\\site-packages (from matplotlib->vivainsights==0.4.1) (4.46.0)\n"
      ]
     },
     "metadata": {},
     "output_type": "display_data"
    },
    {
     "data": {
      "text/html": [
       "<pre style=\"white-space:pre;overflow-x:auto;line-height:normal;font-family:Menlo,'DejaVu Sans Mono',consolas,'Courier New',monospace\">Requirement already satisfied: kiwisolver&gt;=1.3.1 in c:\\users\\martinchan\\appdata\\local\\packages\\pythonsoftwarefoundation.python.3.12_qbz5n2kfra8p0\\localcache\\local-packages\\python312\\site-packages (from matplotlib-&gt;vivainsights==0.4.1) (1.4.5)\n",
       "</pre>\n"
      ],
      "text/plain": [
       "Requirement already satisfied: kiwisolver>=1.3.1 in c:\\users\\martinchan\\appdata\\local\\packages\\pythonsoftwarefoundation.python.3.12_qbz5n2kfra8p0\\localcache\\local-packages\\python312\\site-packages (from matplotlib->vivainsights==0.4.1) (1.4.5)\n"
      ]
     },
     "metadata": {},
     "output_type": "display_data"
    },
    {
     "data": {
      "text/html": [
       "<pre style=\"white-space:pre;overflow-x:auto;line-height:normal;font-family:Menlo,'DejaVu Sans Mono',consolas,'Courier New',monospace\">Requirement already satisfied: packaging&gt;=20.0 in c:\\users\\martinchan\\appdata\\local\\packages\\pythonsoftwarefoundation.python.3.12_qbz5n2kfra8p0\\localcache\\local-packages\\python312\\site-packages (from matplotlib-&gt;vivainsights==0.4.1) (23.2)\n",
       "</pre>\n"
      ],
      "text/plain": [
       "Requirement already satisfied: packaging>=20.0 in c:\\users\\martinchan\\appdata\\local\\packages\\pythonsoftwarefoundation.python.3.12_qbz5n2kfra8p0\\localcache\\local-packages\\python312\\site-packages (from matplotlib->vivainsights==0.4.1) (23.2)\n"
      ]
     },
     "metadata": {},
     "output_type": "display_data"
    },
    {
     "data": {
      "text/html": [
       "<pre style=\"white-space:pre;overflow-x:auto;line-height:normal;font-family:Menlo,'DejaVu Sans Mono',consolas,'Courier New',monospace\">Requirement already satisfied: pillow&gt;=8 in c:\\users\\martinchan\\appdata\\local\\packages\\pythonsoftwarefoundation.python.3.12_qbz5n2kfra8p0\\localcache\\local-packages\\python312\\site-packages (from matplotlib-&gt;vivainsights==0.4.1) (10.1.0)\n",
       "</pre>\n"
      ],
      "text/plain": [
       "Requirement already satisfied: pillow>=8 in c:\\users\\martinchan\\appdata\\local\\packages\\pythonsoftwarefoundation.python.3.12_qbz5n2kfra8p0\\localcache\\local-packages\\python312\\site-packages (from matplotlib->vivainsights==0.4.1) (10.1.0)\n"
      ]
     },
     "metadata": {},
     "output_type": "display_data"
    },
    {
     "data": {
      "text/html": [
       "<pre style=\"white-space:pre;overflow-x:auto;line-height:normal;font-family:Menlo,'DejaVu Sans Mono',consolas,'Courier New',monospace\">Requirement already satisfied: pyparsing&gt;=2.3.1 in c:\\users\\martinchan\\appdata\\local\\packages\\pythonsoftwarefoundation.python.3.12_qbz5n2kfra8p0\\localcache\\local-packages\\python312\\site-packages (from matplotlib-&gt;vivainsights==0.4.1) (3.1.1)\n",
       "</pre>\n"
      ],
      "text/plain": [
       "Requirement already satisfied: pyparsing>=2.3.1 in c:\\users\\martinchan\\appdata\\local\\packages\\pythonsoftwarefoundation.python.3.12_qbz5n2kfra8p0\\localcache\\local-packages\\python312\\site-packages (from matplotlib->vivainsights==0.4.1) (3.1.1)\n"
      ]
     },
     "metadata": {},
     "output_type": "display_data"
    },
    {
     "data": {
      "text/html": [
       "<pre style=\"white-space:pre;overflow-x:auto;line-height:normal;font-family:Menlo,'DejaVu Sans Mono',consolas,'Courier New',monospace\">Requirement already satisfied: python-dateutil&gt;=2.7 in c:\\users\\martinchan\\appdata\\local\\packages\\pythonsoftwarefoundation.python.3.12_qbz5n2kfra8p0\\localcache\\local-packages\\python312\\site-packages (from matplotlib-&gt;vivainsights==0.4.1) (2.8.2)\n",
       "</pre>\n"
      ],
      "text/plain": [
       "Requirement already satisfied: python-dateutil>=2.7 in c:\\users\\martinchan\\appdata\\local\\packages\\pythonsoftwarefoundation.python.3.12_qbz5n2kfra8p0\\localcache\\local-packages\\python312\\site-packages (from matplotlib->vivainsights==0.4.1) (2.8.2)\n"
      ]
     },
     "metadata": {},
     "output_type": "display_data"
    },
    {
     "data": {
      "text/html": [
       "<pre style=\"white-space:pre;overflow-x:auto;line-height:normal;font-family:Menlo,'DejaVu Sans Mono',consolas,'Courier New',monospace\">Requirement already satisfied: six&gt;=1.5 in c:\\users\\martinchan\\appdata\\local\\packages\\pythonsoftwarefoundation.python.3.12_qbz5n2kfra8p0\\localcache\\local-packages\\python312\\site-packages (from python-dateutil&gt;=2.7-&gt;matplotlib-&gt;vivainsights==0.4.1) (1.16.0)\n",
       "</pre>\n"
      ],
      "text/plain": [
       "Requirement already satisfied: six>=1.5 in c:\\users\\martinchan\\appdata\\local\\packages\\pythonsoftwarefoundation.python.3.12_qbz5n2kfra8p0\\localcache\\local-packages\\python312\\site-packages (from python-dateutil>=2.7->matplotlib->vivainsights==0.4.1) (1.16.0)\n"
      ]
     },
     "metadata": {},
     "output_type": "display_data"
    },
    {
     "data": {
      "text/html": [
       "<pre style=\"white-space:pre;overflow-x:auto;line-height:normal;font-family:Menlo,'DejaVu Sans Mono',consolas,'Courier New',monospace\">Requirement already satisfied: traitlets in c:\\users\\martinchan\\appdata\\local\\packages\\pythonsoftwarefoundation.python.3.12_qbz5n2kfra8p0\\localcache\\local-packages\\python312\\site-packages (from matplotlib-inline-&gt;vivainsights==0.4.1) (5.14.0)\n",
       "</pre>\n"
      ],
      "text/plain": [
       "Requirement already satisfied: traitlets in c:\\users\\martinchan\\appdata\\local\\packages\\pythonsoftwarefoundation.python.3.12_qbz5n2kfra8p0\\localcache\\local-packages\\python312\\site-packages (from matplotlib-inline->vivainsights==0.4.1) (5.14.0)\n"
      ]
     },
     "metadata": {},
     "output_type": "display_data"
    },
    {
     "data": {
      "text/html": [
       "<pre style=\"white-space:pre;overflow-x:auto;line-height:normal;font-family:Menlo,'DejaVu Sans Mono',consolas,'Courier New',monospace\">Requirement already satisfied: pytz&gt;=2020.1 in c:\\users\\martinchan\\appdata\\local\\packages\\pythonsoftwarefoundation.python.3.12_qbz5n2kfra8p0\\localcache\\local-packages\\python312\\site-packages (from pandas-&gt;vivainsights==0.4.1) (2023.3.post1)\n",
       "</pre>\n"
      ],
      "text/plain": [
       "Requirement already satisfied: pytz>=2020.1 in c:\\users\\martinchan\\appdata\\local\\packages\\pythonsoftwarefoundation.python.3.12_qbz5n2kfra8p0\\localcache\\local-packages\\python312\\site-packages (from pandas->vivainsights==0.4.1) (2023.3.post1)\n"
      ]
     },
     "metadata": {},
     "output_type": "display_data"
    },
    {
     "data": {
      "text/html": [
       "<pre style=\"white-space:pre;overflow-x:auto;line-height:normal;font-family:Menlo,'DejaVu Sans Mono',consolas,'Courier New',monospace\">Requirement already satisfied: tzdata&gt;=2022.1 in c:\\users\\martinchan\\appdata\\local\\packages\\pythonsoftwarefoundation.python.3.12_qbz5n2kfra8p0\\localcache\\local-packages\\python312\\site-packages (from pandas-&gt;vivainsights==0.4.1) (2023.3)\n",
       "</pre>\n"
      ],
      "text/plain": [
       "Requirement already satisfied: tzdata>=2022.1 in c:\\users\\martinchan\\appdata\\local\\packages\\pythonsoftwarefoundation.python.3.12_qbz5n2kfra8p0\\localcache\\local-packages\\python312\\site-packages (from pandas->vivainsights==0.4.1) (2023.3)\n"
      ]
     },
     "metadata": {},
     "output_type": "display_data"
    },
    {
     "data": {
      "text/html": [
       "<pre style=\"white-space:pre;overflow-x:auto;line-height:normal;font-family:Menlo,'DejaVu Sans Mono',consolas,'Courier New',monospace\">Requirement already satisfied: tenacity&gt;=6.2.0 in c:\\users\\martinchan\\appdata\\local\\packages\\pythonsoftwarefoundation.python.3.12_qbz5n2kfra8p0\\localcache\\local-packages\\python312\\site-packages (from plotly-&gt;vivainsights==0.4.1) (8.2.3)\n",
       "</pre>\n"
      ],
      "text/plain": [
       "Requirement already satisfied: tenacity>=6.2.0 in c:\\users\\martinchan\\appdata\\local\\packages\\pythonsoftwarefoundation.python.3.12_qbz5n2kfra8p0\\localcache\\local-packages\\python312\\site-packages (from plotly->vivainsights==0.4.1) (8.2.3)\n"
      ]
     },
     "metadata": {},
     "output_type": "display_data"
    },
    {
     "data": {
      "text/html": [
       "<pre style=\"white-space:pre;overflow-x:auto;line-height:normal;font-family:Menlo,'DejaVu Sans Mono',consolas,'Courier New',monospace\">Requirement already satisfied: joblib&gt;=1.1.1 in c:\\users\\martinchan\\appdata\\local\\packages\\pythonsoftwarefoundation.python.3.12_qbz5n2kfra8p0\\localcache\\local-packages\\python312\\site-packages (from scikit-learn-&gt;vivainsights==0.4.1) (1.3.2)\n",
       "</pre>\n"
      ],
      "text/plain": [
       "Requirement already satisfied: joblib>=1.1.1 in c:\\users\\martinchan\\appdata\\local\\packages\\pythonsoftwarefoundation.python.3.12_qbz5n2kfra8p0\\localcache\\local-packages\\python312\\site-packages (from scikit-learn->vivainsights==0.4.1) (1.3.2)\n"
      ]
     },
     "metadata": {},
     "output_type": "display_data"
    },
    {
     "data": {
      "text/html": [
       "<pre style=\"white-space:pre;overflow-x:auto;line-height:normal;font-family:Menlo,'DejaVu Sans Mono',consolas,'Courier New',monospace\">Requirement already satisfied: threadpoolctl&gt;=2.0.0 in c:\\users\\martinchan\\appdata\\local\\packages\\pythonsoftwarefoundation.python.3.12_qbz5n2kfra8p0\\localcache\\local-packages\\python312\\site-packages (from scikit-learn-&gt;vivainsights==0.4.1) (3.2.0)\n",
       "</pre>\n"
      ],
      "text/plain": [
       "Requirement already satisfied: threadpoolctl>=2.0.0 in c:\\users\\martinchan\\appdata\\local\\packages\\pythonsoftwarefoundation.python.3.12_qbz5n2kfra8p0\\localcache\\local-packages\\python312\\site-packages (from scikit-learn->vivainsights==0.4.1) (3.2.0)\n"
      ]
     },
     "metadata": {},
     "output_type": "display_data"
    },
    {
     "data": {
      "text/html": [
       "<pre style=\"white-space:pre;overflow-x:auto;line-height:normal;font-family:Menlo,'DejaVu Sans Mono',consolas,'Courier New',monospace\">Building wheels for collected packages: vivainsights\n",
       "</pre>\n"
      ],
      "text/plain": [
       "Building wheels for collected packages: vivainsights\n"
      ]
     },
     "metadata": {},
     "output_type": "display_data"
    },
    {
     "data": {
      "text/html": [
       "<pre style=\"white-space:pre;overflow-x:auto;line-height:normal;font-family:Menlo,'DejaVu Sans Mono',consolas,'Courier New',monospace\">  Building wheel for vivainsights (pyproject.toml): started\n",
       "</pre>\n"
      ],
      "text/plain": [
       "  Building wheel for vivainsights (pyproject.toml): started\n"
      ]
     },
     "metadata": {},
     "output_type": "display_data"
    },
    {
     "data": {
      "text/html": [
       "<pre style=\"white-space:pre;overflow-x:auto;line-height:normal;font-family:Menlo,'DejaVu Sans Mono',consolas,'Courier New',monospace\">  Building wheel for vivainsights (pyproject.toml): finished with status 'done'\n",
       "</pre>\n"
      ],
      "text/plain": [
       "  Building wheel for vivainsights (pyproject.toml): finished with status 'done'\n"
      ]
     },
     "metadata": {},
     "output_type": "display_data"
    },
    {
     "data": {
      "text/html": [
       "<pre style=\"white-space:pre;overflow-x:auto;line-height:normal;font-family:Menlo,'DejaVu Sans Mono',consolas,'Courier New',monospace\">  Created wheel for vivainsights: filename=vivainsights-0.4.1-py3-none-any.whl size=2818049 sha256=e59401ac7e3d7f0548735d7e48acf553992fcbe63d33b2484cd29d429579db89\n",
       "</pre>\n"
      ],
      "text/plain": [
       "  Created wheel for vivainsights: filename=vivainsights-0.4.1-py3-none-any.whl size=2818049 sha256=e59401ac7e3d7f0548735d7e48acf553992fcbe63d33b2484cd29d429579db89\n"
      ]
     },
     "metadata": {},
     "output_type": "display_data"
    },
    {
     "data": {
      "text/html": [
       "<pre style=\"white-space:pre;overflow-x:auto;line-height:normal;font-family:Menlo,'DejaVu Sans Mono',consolas,'Courier New',monospace\">  Stored in directory: c:\\users\\martinchan\\appdata\\local\\pip\\cache\\wheels\\57\\33\\87\\b5897bf10b29c28a21266c3b88882b9153f61df78953dd9d2b\n",
       "</pre>\n"
      ],
      "text/plain": [
       "  Stored in directory: c:\\users\\martinchan\\appdata\\local\\pip\\cache\\wheels\\57\\33\\87\\b5897bf10b29c28a21266c3b88882b9153f61df78953dd9d2b\n"
      ]
     },
     "metadata": {},
     "output_type": "display_data"
    },
    {
     "data": {
      "text/html": [
       "<pre style=\"white-space:pre;overflow-x:auto;line-height:normal;font-family:Menlo,'DejaVu Sans Mono',consolas,'Courier New',monospace\">Successfully built vivainsights\n",
       "</pre>\n"
      ],
      "text/plain": [
       "Successfully built vivainsights\n"
      ]
     },
     "metadata": {},
     "output_type": "display_data"
    },
    {
     "data": {
      "text/html": [
       "<pre style=\"white-space:pre;overflow-x:auto;line-height:normal;font-family:Menlo,'DejaVu Sans Mono',consolas,'Courier New',monospace\">Installing collected packages: vivainsights\n",
       "</pre>\n"
      ],
      "text/plain": [
       "Installing collected packages: vivainsights\n"
      ]
     },
     "metadata": {},
     "output_type": "display_data"
    },
    {
     "data": {
      "text/html": [
       "<pre style=\"white-space:pre;overflow-x:auto;line-height:normal;font-family:Menlo,'DejaVu Sans Mono',consolas,'Courier New',monospace\">  Attempting uninstall: vivainsights\n",
       "</pre>\n"
      ],
      "text/plain": [
       "  Attempting uninstall: vivainsights\n"
      ]
     },
     "metadata": {},
     "output_type": "display_data"
    },
    {
     "data": {
      "text/html": [
       "<pre style=\"white-space:pre;overflow-x:auto;line-height:normal;font-family:Menlo,'DejaVu Sans Mono',consolas,'Courier New',monospace\">    Found existing installation: vivainsights 0.3.3\n",
       "</pre>\n"
      ],
      "text/plain": [
       "    Found existing installation: vivainsights 0.3.3\n"
      ]
     },
     "metadata": {},
     "output_type": "display_data"
    },
    {
     "data": {
      "text/html": [
       "<pre style=\"white-space:pre;overflow-x:auto;line-height:normal;font-family:Menlo,'DejaVu Sans Mono',consolas,'Courier New',monospace\">    Uninstalling vivainsights-0.3.3:\n",
       "</pre>\n"
      ],
      "text/plain": [
       "    Uninstalling vivainsights-0.3.3:\n"
      ]
     },
     "metadata": {},
     "output_type": "display_data"
    },
    {
     "data": {
      "text/html": [
       "<pre style=\"white-space:pre;overflow-x:auto;line-height:normal;font-family:Menlo,'DejaVu Sans Mono',consolas,'Courier New',monospace\">      Successfully uninstalled vivainsights-0.3.3\n",
       "</pre>\n"
      ],
      "text/plain": [
       "      Successfully uninstalled vivainsights-0.3.3\n"
      ]
     },
     "metadata": {},
     "output_type": "display_data"
    },
    {
     "data": {
      "text/html": [
       "<pre style=\"white-space:pre;overflow-x:auto;line-height:normal;font-family:Menlo,'DejaVu Sans Mono',consolas,'Courier New',monospace\">Successfully installed vivainsights-0.3.4\n",
       "</pre>\n"
      ],
      "text/plain": [
       "Successfully installed vivainsights-0.3.4\n"
      ]
     },
     "metadata": {},
     "output_type": "display_data"
    }
   ],
   "source": [
    "import pip\n",
    "\n",
    "def install_local_package(path_to_package):\n",
    "    pip.main(['install', path_to_package])\n",
    "\n",
    "# Example\n",
    "install_local_package('C:\\\\Users\\\\martinchan\\\\OneDrive - Microsoft\\\\Documents\\\\GitHub\\\\vivainsights-py')"
   ]
  },
  {
   "cell_type": "code",
   "execution_count": 1,
   "id": "da67d55b",
   "metadata": {},
   "outputs": [],
   "source": [
    "import vivainsights as vi\n",
    "\n",
    "# load in-built datasets\n",
    "pq_data = vi.load_pq_data() # load and assign in-built person query"
   ]
  },
  {
   "cell_type": "code",
   "execution_count": 2,
   "id": "7659175c",
   "metadata": {},
   "outputs": [],
   "source": [
    "import warnings\n",
    "warnings.filterwarnings('ignore')"
   ]
  },
  {
   "cell_type": "code",
   "execution_count": 3,
   "id": "247ab3d3",
   "metadata": {},
   "outputs": [
    {
     "data": {
      "text/html": [
       "<div>\n",
       "<style scoped>\n",
       "    .dataframe tbody tr th:only-of-type {\n",
       "        vertical-align: middle;\n",
       "    }\n",
       "\n",
       "    .dataframe tbody tr th {\n",
       "        vertical-align: top;\n",
       "    }\n",
       "\n",
       "    .dataframe thead th {\n",
       "        text-align: right;\n",
       "    }\n",
       "</style>\n",
       "<table border=\"1\" class=\"dataframe\">\n",
       "  <thead>\n",
       "    <tr style=\"text-align: right;\">\n",
       "      <th></th>\n",
       "      <th>Unnamed: 0</th>\n",
       "      <th>PersonId</th>\n",
       "      <th>MetricDate</th>\n",
       "      <th>After_hours_call_hours</th>\n",
       "      <th>After_hours_chat_hours</th>\n",
       "      <th>After_hours_collaboration_hours</th>\n",
       "      <th>After_hours_email_hours</th>\n",
       "      <th>After_hours_meeting_hours</th>\n",
       "      <th>After_hours_scheduled_call_hours</th>\n",
       "      <th>After_hours_unscheduled_call_hours</th>\n",
       "      <th>...</th>\n",
       "      <th>Working_hours_meeting_hours</th>\n",
       "      <th>Working_hours_scheduled_call_hours</th>\n",
       "      <th>Working_hours_unscheduled_call_hours</th>\n",
       "      <th>LevelDesignation</th>\n",
       "      <th>Layer</th>\n",
       "      <th>SupervisorIndicator</th>\n",
       "      <th>Organization</th>\n",
       "      <th>FunctionType</th>\n",
       "      <th>WeekendDays</th>\n",
       "      <th>IsActive</th>\n",
       "    </tr>\n",
       "  </thead>\n",
       "  <tbody>\n",
       "    <tr>\n",
       "      <th>0</th>\n",
       "      <td>1</td>\n",
       "      <td>a6afe34c-8524-32d3-a368-1517b29b68cd</td>\n",
       "      <td>2022-05-01</td>\n",
       "      <td>0.0</td>\n",
       "      <td>0.0</td>\n",
       "      <td>18.675938</td>\n",
       "      <td>0.722722</td>\n",
       "      <td>18.25</td>\n",
       "      <td>0.0</td>\n",
       "      <td>0</td>\n",
       "      <td>...</td>\n",
       "      <td>19.50</td>\n",
       "      <td>0</td>\n",
       "      <td>0</td>\n",
       "      <td>Manager</td>\n",
       "      <td>3</td>\n",
       "      <td>Manager</td>\n",
       "      <td>Sales and Marketing</td>\n",
       "      <td>G_and_A</td>\n",
       "      <td>[SUNDAY, SATURDAY]</td>\n",
       "      <td>True</td>\n",
       "    </tr>\n",
       "    <tr>\n",
       "      <th>1</th>\n",
       "      <td>2</td>\n",
       "      <td>d6368140-9312-380b-bbc9-9a32bcef4b83</td>\n",
       "      <td>2022-05-01</td>\n",
       "      <td>0.0</td>\n",
       "      <td>0.0</td>\n",
       "      <td>4.827803</td>\n",
       "      <td>0.925556</td>\n",
       "      <td>4.00</td>\n",
       "      <td>0.0</td>\n",
       "      <td>0</td>\n",
       "      <td>...</td>\n",
       "      <td>8.75</td>\n",
       "      <td>0</td>\n",
       "      <td>0</td>\n",
       "      <td>Support</td>\n",
       "      <td>3</td>\n",
       "      <td>Individual Contributor</td>\n",
       "      <td>Finance</td>\n",
       "      <td>Sales</td>\n",
       "      <td>[SUNDAY, SATURDAY]</td>\n",
       "      <td>True</td>\n",
       "    </tr>\n",
       "    <tr>\n",
       "      <th>2</th>\n",
       "      <td>3</td>\n",
       "      <td>60bf99b0-65fd-3c3f-94fb-8ceb451d59e7</td>\n",
       "      <td>2022-05-01</td>\n",
       "      <td>0.0</td>\n",
       "      <td>0.0</td>\n",
       "      <td>1.497806</td>\n",
       "      <td>0.812806</td>\n",
       "      <td>0.75</td>\n",
       "      <td>0.0</td>\n",
       "      <td>0</td>\n",
       "      <td>...</td>\n",
       "      <td>12.50</td>\n",
       "      <td>0</td>\n",
       "      <td>0</td>\n",
       "      <td>Support</td>\n",
       "      <td>3</td>\n",
       "      <td>Individual Contributor</td>\n",
       "      <td>Product</td>\n",
       "      <td>IT</td>\n",
       "      <td>[SUNDAY, SATURDAY]</td>\n",
       "      <td>True</td>\n",
       "    </tr>\n",
       "    <tr>\n",
       "      <th>3</th>\n",
       "      <td>4</td>\n",
       "      <td>93fddd74-3667-392b-ba5a-92d855772cb0</td>\n",
       "      <td>2022-05-01</td>\n",
       "      <td>0.0</td>\n",
       "      <td>0.0</td>\n",
       "      <td>59.265892</td>\n",
       "      <td>2.283668</td>\n",
       "      <td>59.00</td>\n",
       "      <td>0.0</td>\n",
       "      <td>0</td>\n",
       "      <td>...</td>\n",
       "      <td>28.50</td>\n",
       "      <td>0</td>\n",
       "      <td>0</td>\n",
       "      <td>Director</td>\n",
       "      <td>2</td>\n",
       "      <td>Manager+</td>\n",
       "      <td>Sales and Marketing</td>\n",
       "      <td>Analytics</td>\n",
       "      <td>[SUNDAY, SATURDAY]</td>\n",
       "      <td>True</td>\n",
       "    </tr>\n",
       "    <tr>\n",
       "      <th>4</th>\n",
       "      <td>5</td>\n",
       "      <td>53183116-2cb2-32ee-9042-d62eb7061407</td>\n",
       "      <td>2022-05-01</td>\n",
       "      <td>0.0</td>\n",
       "      <td>0.0</td>\n",
       "      <td>2.146806</td>\n",
       "      <td>0.520167</td>\n",
       "      <td>1.75</td>\n",
       "      <td>0.0</td>\n",
       "      <td>0</td>\n",
       "      <td>...</td>\n",
       "      <td>7.50</td>\n",
       "      <td>0</td>\n",
       "      <td>0</td>\n",
       "      <td>Support</td>\n",
       "      <td>3</td>\n",
       "      <td>Individual Contributor</td>\n",
       "      <td>Sales and Marketing</td>\n",
       "      <td>IT</td>\n",
       "      <td>[SUNDAY, SATURDAY]</td>\n",
       "      <td>True</td>\n",
       "    </tr>\n",
       "  </tbody>\n",
       "</table>\n",
       "<p>5 rows × 155 columns</p>\n",
       "</div>"
      ],
      "text/plain": [
       "   Unnamed: 0                              PersonId  MetricDate  \\\n",
       "0           1  a6afe34c-8524-32d3-a368-1517b29b68cd  2022-05-01   \n",
       "1           2  d6368140-9312-380b-bbc9-9a32bcef4b83  2022-05-01   \n",
       "2           3  60bf99b0-65fd-3c3f-94fb-8ceb451d59e7  2022-05-01   \n",
       "3           4  93fddd74-3667-392b-ba5a-92d855772cb0  2022-05-01   \n",
       "4           5  53183116-2cb2-32ee-9042-d62eb7061407  2022-05-01   \n",
       "\n",
       "   After_hours_call_hours  After_hours_chat_hours  \\\n",
       "0                     0.0                     0.0   \n",
       "1                     0.0                     0.0   \n",
       "2                     0.0                     0.0   \n",
       "3                     0.0                     0.0   \n",
       "4                     0.0                     0.0   \n",
       "\n",
       "   After_hours_collaboration_hours  After_hours_email_hours  \\\n",
       "0                        18.675938                 0.722722   \n",
       "1                         4.827803                 0.925556   \n",
       "2                         1.497806                 0.812806   \n",
       "3                        59.265892                 2.283668   \n",
       "4                         2.146806                 0.520167   \n",
       "\n",
       "   After_hours_meeting_hours  After_hours_scheduled_call_hours  \\\n",
       "0                      18.25                               0.0   \n",
       "1                       4.00                               0.0   \n",
       "2                       0.75                               0.0   \n",
       "3                      59.00                               0.0   \n",
       "4                       1.75                               0.0   \n",
       "\n",
       "   After_hours_unscheduled_call_hours  ...  Working_hours_meeting_hours  \\\n",
       "0                                   0  ...                        19.50   \n",
       "1                                   0  ...                         8.75   \n",
       "2                                   0  ...                        12.50   \n",
       "3                                   0  ...                        28.50   \n",
       "4                                   0  ...                         7.50   \n",
       "\n",
       "   Working_hours_scheduled_call_hours  Working_hours_unscheduled_call_hours  \\\n",
       "0                                   0                                     0   \n",
       "1                                   0                                     0   \n",
       "2                                   0                                     0   \n",
       "3                                   0                                     0   \n",
       "4                                   0                                     0   \n",
       "\n",
       "   LevelDesignation  Layer     SupervisorIndicator         Organization  \\\n",
       "0           Manager      3                 Manager  Sales and Marketing   \n",
       "1           Support      3  Individual Contributor              Finance   \n",
       "2           Support      3  Individual Contributor              Product   \n",
       "3          Director      2                Manager+  Sales and Marketing   \n",
       "4           Support      3  Individual Contributor  Sales and Marketing   \n",
       "\n",
       "   FunctionType         WeekendDays  IsActive  \n",
       "0       G_and_A  [SUNDAY, SATURDAY]      True  \n",
       "1         Sales  [SUNDAY, SATURDAY]      True  \n",
       "2            IT  [SUNDAY, SATURDAY]      True  \n",
       "3     Analytics  [SUNDAY, SATURDAY]      True  \n",
       "4            IT  [SUNDAY, SATURDAY]      True  \n",
       "\n",
       "[5 rows x 155 columns]"
      ]
     },
     "execution_count": 3,
     "metadata": {},
     "output_type": "execute_result"
    }
   ],
   "source": [
    "pq_data.head()"
   ]
  },
  {
   "cell_type": "markdown",
   "id": "caf67b86",
   "metadata": {},
   "source": [
    "## Core Visualization Functions\n",
    "\n",
    "The **vivainsights** package provides a comprehensive suite of visualization functions, each designed for specific analytical needs. All visualization functions follow a consistent pattern:\n",
    "\n",
    "**Key Parameters:**\n",
    "- `data` - Your Viva Insights dataset (Person Query, Meeting Query, etc.)\n",
    "- `metric` - The collaboration metric to analyze (e.g., 'Collaboration_hours', 'Emails_sent')\n",
    "- `hrvar` - Organizational grouping variable (e.g., 'Organization', 'LevelDesignation')  \n",
    "- `mingroup` - Minimum group size to display (privacy protection)\n",
    "- `return_type` - Output format: `'plot'` (visualization) or `'table'` (summary data)\n",
    "\n",
    "### Bar Charts: Comparing Groups\n",
    "\n",
    "The `create_bar()` function creates person-averaged bar charts - it first calculates individual averages, then group averages. This prevents larger groups from dominating the analysis and ensures fair comparison across organizational segments."
   ]
  },
  {
   "cell_type": "code",
   "execution_count": 4,
   "id": "f64fb0fe",
   "metadata": {
    "scrolled": true
   },
   "outputs": [
    {
     "data": {
      "image/png": "[encoded data removed]",
      "text/plain": [
       "<Figure size 400x600 with 1 Axes>"
      ]
     },
     "metadata": {},
     "output_type": "display_data"
    }
   ],
   "source": [
    "plot_bar = vi.create_bar(data=pq_data, metric='Emails_sent', hrvar='Organization', mingroup=5)"
   ]
  },
  {
   "cell_type": "markdown",
   "id": "6a738776",
   "metadata": {},
   "source": [
    "You can also ask the function to return a summary table by specifying the parameter `return_type`. This summary table can be copied to a clipboard with `export()`."
   ]
  },
  {
   "cell_type": "code",
   "execution_count": 5,
   "id": "60dae622",
   "metadata": {},
   "outputs": [
    {
     "name": "stdout",
     "output_type": "stream",
     "text": [
      "          Organization     metric   n\n",
      "0              Finance  46.566667  27\n",
      "3  Sales and Marketing  45.625806  31\n",
      "1                   HR  38.971429  21\n",
      "2              Product  35.433333  21\n"
     ]
    }
   ],
   "source": [
    "tb = vi.create_bar(data=pq_data, metric='Emails_sent', hrvar='Organization', mingroup=5, return_type='table')\n",
    "print(tb)"
   ]
  },
  {
   "cell_type": "code",
   "execution_count": 6,
   "id": "ba37d24b",
   "metadata": {},
   "outputs": [
    {
     "name": "stdout",
     "output_type": "stream",
     "text": [
      "Data frame copied to clipboard.\n",
      "You may paste the contents directly to Excel.\n"
     ]
    },
    {
     "data": {
      "text/plain": [
       "()"
      ]
     },
     "execution_count": 6,
     "metadata": {},
     "output_type": "execute_result"
    }
   ],
   "source": [
    "vi.export(tb)"
   ]
  },
  {
   "cell_type": "markdown",
   "id": "6f5d5fa5",
   "metadata": {},
   "source": [
    "Here are some other visual outputs, and their accompanying summary table outputs:"
   ]
  },
  {
   "cell_type": "code",
   "execution_count": 7,
   "id": "a511e696",
   "metadata": {},
   "outputs": [
    {
     "data": {
      "image/png": "[encoded data removed]",
      "text/plain": [
       "<Figure size 700x400 with 1 Axes>"
      ]
     },
     "metadata": {},
     "output_type": "display_data"
    }
   ],
   "source": [
    "plot_line = vi.create_line(data=pq_data, metric='Emails_sent', hrvar='Organization', mingroup=5, return_type='plot')"
   ]
  },
  {
   "cell_type": "code",
   "execution_count": 8,
   "id": "963db182",
   "metadata": {},
   "outputs": [
    {
     "data": {
      "text/html": [
       "<div>\n",
       "<style scoped>\n",
       "    .dataframe tbody tr th:only-of-type {\n",
       "        vertical-align: middle;\n",
       "    }\n",
       "\n",
       "    .dataframe tbody tr th {\n",
       "        vertical-align: top;\n",
       "    }\n",
       "\n",
       "    .dataframe thead th {\n",
       "        text-align: right;\n",
       "    }\n",
       "</style>\n",
       "<table border=\"1\" class=\"dataframe\">\n",
       "  <thead>\n",
       "    <tr style=\"text-align: right;\">\n",
       "      <th></th>\n",
       "      <th>MetricDate</th>\n",
       "      <th>Organization</th>\n",
       "      <th>metric</th>\n",
       "      <th>n</th>\n",
       "    </tr>\n",
       "  </thead>\n",
       "  <tbody>\n",
       "    <tr>\n",
       "      <th>0</th>\n",
       "      <td>2022-05-01</td>\n",
       "      <td>Finance</td>\n",
       "      <td>52.370370</td>\n",
       "      <td>27</td>\n",
       "    </tr>\n",
       "    <tr>\n",
       "      <th>1</th>\n",
       "      <td>2022-05-01</td>\n",
       "      <td>HR</td>\n",
       "      <td>43.238095</td>\n",
       "      <td>21</td>\n",
       "    </tr>\n",
       "    <tr>\n",
       "      <th>2</th>\n",
       "      <td>2022-05-01</td>\n",
       "      <td>Product</td>\n",
       "      <td>38.428571</td>\n",
       "      <td>21</td>\n",
       "    </tr>\n",
       "    <tr>\n",
       "      <th>3</th>\n",
       "      <td>2022-05-01</td>\n",
       "      <td>Sales and Marketing</td>\n",
       "      <td>49.193548</td>\n",
       "      <td>31</td>\n",
       "    </tr>\n",
       "    <tr>\n",
       "      <th>4</th>\n",
       "      <td>2022-05-08</td>\n",
       "      <td>Finance</td>\n",
       "      <td>50.000000</td>\n",
       "      <td>27</td>\n",
       "    </tr>\n",
       "  </tbody>\n",
       "</table>\n",
       "</div>"
      ],
      "text/plain": [
       "   MetricDate         Organization     metric   n\n",
       "0  2022-05-01              Finance  52.370370  27\n",
       "1  2022-05-01                   HR  43.238095  21\n",
       "2  2022-05-01              Product  38.428571  21\n",
       "3  2022-05-01  Sales and Marketing  49.193548  31\n",
       "4  2022-05-08              Finance  50.000000  27"
      ]
     },
     "execution_count": 8,
     "metadata": {},
     "output_type": "execute_result"
    }
   ],
   "source": [
    "vi.create_line(data=pq_data, metric='Emails_sent', hrvar='Organization', mingroup=5, return_type='table').head()"
   ]
  },
  {
   "cell_type": "markdown",
   "id": "35195e56",
   "metadata": {},
   "source": [
    "#### Distribution & Inequality Analysis\n",
    "\n",
    "Understanding how metrics are distributed across your organization is crucial for identifying patterns, outliers, and inequality. The **vivainsights** package provides powerful functions for distribution analysis that go beyond simple averages.\n",
    "\n",
    "**Distribution Functions:**\n",
    "- `create_boxplot()` - Visualizes metric distributions and identifies outliers across groups\n",
    "- `create_lorenz()` - Analyzes inequality using Lorenz curves and Gini coefficients\n",
    "\n",
    "These functions are particularly valuable when analyzing engagement metrics. For example, while the average \"Collaboration hours\" might appear healthy across your organization, the distribution could reveal that a small group of employees are experiencing unsustainable collaboration loads, while others might be under-collaborating."
   ]
  },
  {
   "cell_type": "code",
   "execution_count": 9,
   "id": "437e069a",
   "metadata": {},
   "outputs": [
    {
     "data": {
      "image/png": "[encoded data removed]",
      "text/plain": [
       "<Figure size 700x400 with 1 Axes>"
      ]
     },
     "metadata": {},
     "output_type": "display_data"
    }
   ],
   "source": [
    "plot_box = vi.create_boxplot(data=pq_data, metric='Emails_sent', hrvar='Organization', mingroup=5, return_type='plot')"
   ]
  },
  {
   "cell_type": "code",
   "execution_count": 10,
   "id": "c8aaa5a1",
   "metadata": {},
   "outputs": [
    {
     "data": {
      "text/html": [
       "<div>\n",
       "<style scoped>\n",
       "    .dataframe tbody tr th:only-of-type {\n",
       "        vertical-align: middle;\n",
       "    }\n",
       "\n",
       "    .dataframe tbody tr th {\n",
       "        vertical-align: top;\n",
       "    }\n",
       "\n",
       "    .dataframe thead th {\n",
       "        text-align: right;\n",
       "    }\n",
       "</style>\n",
       "<table border=\"1\" class=\"dataframe\">\n",
       "  <thead>\n",
       "    <tr style=\"text-align: right;\">\n",
       "      <th></th>\n",
       "      <th>index</th>\n",
       "      <th>group</th>\n",
       "      <th>mean</th>\n",
       "      <th>median</th>\n",
       "      <th>sd</th>\n",
       "      <th>min</th>\n",
       "      <th>max</th>\n",
       "      <th>n</th>\n",
       "    </tr>\n",
       "  </thead>\n",
       "  <tbody>\n",
       "    <tr>\n",
       "      <th>0</th>\n",
       "      <td>0</td>\n",
       "      <td>Finance</td>\n",
       "      <td>46.566667</td>\n",
       "      <td>39.6</td>\n",
       "      <td>21.739330</td>\n",
       "      <td>28.5</td>\n",
       "      <td>134.5</td>\n",
       "      <td>27</td>\n",
       "    </tr>\n",
       "    <tr>\n",
       "      <th>1</th>\n",
       "      <td>1</td>\n",
       "      <td>HR</td>\n",
       "      <td>38.971429</td>\n",
       "      <td>36.0</td>\n",
       "      <td>16.793366</td>\n",
       "      <td>22.1</td>\n",
       "      <td>98.9</td>\n",
       "      <td>21</td>\n",
       "    </tr>\n",
       "    <tr>\n",
       "      <th>2</th>\n",
       "      <td>2</td>\n",
       "      <td>Product</td>\n",
       "      <td>35.433333</td>\n",
       "      <td>33.4</td>\n",
       "      <td>6.608505</td>\n",
       "      <td>29.6</td>\n",
       "      <td>59.5</td>\n",
       "      <td>21</td>\n",
       "    </tr>\n",
       "    <tr>\n",
       "      <th>3</th>\n",
       "      <td>3</td>\n",
       "      <td>Sales and Marketing</td>\n",
       "      <td>45.625806</td>\n",
       "      <td>38.4</td>\n",
       "      <td>20.387577</td>\n",
       "      <td>24.4</td>\n",
       "      <td>119.0</td>\n",
       "      <td>31</td>\n",
       "    </tr>\n",
       "  </tbody>\n",
       "</table>\n",
       "</div>"
      ],
      "text/plain": [
       "   index                group       mean  median         sd   min    max   n\n",
       "0      0              Finance  46.566667    39.6  21.739330  28.5  134.5  27\n",
       "1      1                   HR  38.971429    36.0  16.793366  22.1   98.9  21\n",
       "2      2              Product  35.433333    33.4   6.608505  29.6   59.5  21\n",
       "3      3  Sales and Marketing  45.625806    38.4  20.387577  24.4  119.0  31"
      ]
     },
     "execution_count": 10,
     "metadata": {},
     "output_type": "execute_result"
    }
   ],
   "source": [
    "vi.create_boxplot(data=pq_data, metric='Emails_sent', hrvar='Organization', mingroup=5, return_type='table')"
   ]
  },
  {
   "cell_type": "markdown",
   "id": "18b2ee50",
   "metadata": {},
   "source": [
    "### Lorenz Curve: Analyzing Inequality\n",
    "\n",
    "The `create_lorenz()` function helps you understand inequality within your data by plotting Lorenz curves and calculating Gini coefficients. This is particularly useful for identifying whether certain metrics are concentrated among a small subset of employees.\n",
    "\n",
    "A Gini coefficient close to 0 indicates equality (everyone has similar values), while a value close to 1 indicates high inequality (few people have most of the value)."
   ]
  },
  {
   "cell_type": "code",
   "execution_count": 11,
   "id": "66e2b9e9",
   "metadata": {},
   "outputs": [
    {
     "ename": "AttributeError",
     "evalue": "module 'vivainsights' has no attribute 'create_lorenz'",
     "output_type": "error",
     "traceback": [
      "\u001b[1;31m---------------------------------------------------------------------------\u001b[0m",
      "\u001b[1;31mAttributeError\u001b[0m                            Traceback (most recent call last)",
      "Cell \u001b[1;32mIn[11], line 2\u001b[0m\n\u001b[0;32m      1\u001b[0m \u001b[38;5;66;03m# Lorenz curve for collaboration hours - shows inequality across the population\u001b[39;00m\n\u001b[1;32m----> 2\u001b[0m lorenz_plot \u001b[38;5;241m=\u001b[39m \u001b[43mvi\u001b[49m\u001b[38;5;241;43m.\u001b[39;49m\u001b[43mcreate_lorenz\u001b[49m(data\u001b[38;5;241m=\u001b[39mpq_data, metric\u001b[38;5;241m=\u001b[39m\u001b[38;5;124m'\u001b[39m\u001b[38;5;124mCollaboration_hours\u001b[39m\u001b[38;5;124m'\u001b[39m, return_type\u001b[38;5;241m=\u001b[39m\u001b[38;5;124m'\u001b[39m\u001b[38;5;124mplot\u001b[39m\u001b[38;5;124m'\u001b[39m)\n",
      "\u001b[1;31mAttributeError\u001b[0m: module 'vivainsights' has no attribute 'create_lorenz'"
     ]
    }
   ],
   "source": [
    "# Lorenz curve for collaboration hours - shows inequality across the population\n",
    "lorenz_plot = vi.create_lorenz(data=pq_data, metric='Collaboration_hours', return_type='plot')"
   ]
  },
  {
   "cell_type": "code",
   "execution_count": null,
   "id": "edb1a296",
   "metadata": {},
   "outputs": [
    {
     "name": "stdout",
     "output_type": "stream",
     "text": [
      "Gini coefficient for Collaboration Hours: 0.149\n",
      "Interpretation: Low inequality\n"
     ]
    }
   ],
   "source": [
    "# Get the Gini coefficient to quantify inequality\n",
    "gini_coef = vi.create_lorenz(data=pq_data, metric='Collaboration_hours', return_type='gini')\n",
    "print(f\"Gini coefficient for Collaboration Hours: {gini_coef:.3f}\")\n",
    "print(f\"Interpretation: {'High inequality' if gini_coef > 0.5 else 'Moderate inequality' if gini_coef > 0.3 else 'Low inequality'}\")"
   ]
  },
  {
   "cell_type": "markdown",
   "id": "639c2daf",
   "metadata": {},
   "source": [
    "### Incidence Analysis: Understanding Thresholds\n",
    "\n",
    "The `create_inc()` function helps you understand what percentage of your population exceeds certain thresholds for key metrics. This is crucial for identifying employees who might be at risk of burnout or disengagement.\n",
    "\n",
    "For example, you might want to know what percentage of employees in each organization have collaboration hours above a healthy threshold."
   ]
  },
  {
   "cell_type": "code",
   "execution_count": null,
   "id": "2fa3bda3",
   "metadata": {},
   "outputs": [
    {
     "data": {
      "image/png": "[encoded data removed]",
      "text/plain": [
       "<Figure size 400x600 with 1 Axes>"
      ]
     },
     "metadata": {},
     "output_type": "display_data"
    }
   ],
   "source": [
    "# Incidence analysis: What % of people have >20 collaboration hours per week?\n",
    "inc_plot = vi.create_inc(\n",
    "    data=pq_data,\n",
    "    metric='Collaboration_hours',\n",
    "    hrvar='Organization',\n",
    "    threshold=20,  # Threshold of 20 hours per week\n",
    "    position='above',  # Looking at people above this threshold\n",
    "    mingroup=5,\n",
    "    return_type='plot'\n",
    ")"
   ]
  },
  {
   "cell_type": "code",
   "execution_count": null,
   "id": "33e37088",
   "metadata": {},
   "outputs": [
    {
     "name": "stdout",
     "output_type": "stream",
     "text": [
      "Percentage of employees with >20 collaboration hours per week:\n",
      "  Organization    metric   n\n",
      "1           HR  0.705628  33\n",
      "4   Operations  0.703896  22\n",
      "0      Finance  0.697059  68\n",
      "5     Research  0.690659  52\n",
      "2           IT  0.688235  68\n",
      "3        Legal  0.676623  44\n",
      "6        Sales  0.668132  13\n"
     ]
    }
   ],
   "source": [
    "# Get the exact percentages as a table\n",
    "inc_table = vi.create_inc(\n",
    "    data=pq_data,\n",
    "    metric='Collaboration_hours',\n",
    "    hrvar='Organization',\n",
    "    threshold=20,\n",
    "    position='above',\n",
    "    mingroup=5,\n",
    "    return_type='table'\n",
    ")\n",
    "print(\"Percentage of employees with >20 collaboration hours per week:\")\n",
    "print(inc_table)"
   ]
  },
  {
   "cell_type": "markdown",
   "id": "851fcbf8",
   "metadata": {},
   "source": [
    "## Exploratory Data Analysis\n",
    "\n",
    "### Multi-dimensional Ranking: Finding Top Contributors and Risk Groups\n",
    "\n",
    "The `create_rank()` function is one of the most powerful tools for rapid organizational exploration. It allows you to:\n",
    "\n",
    "- **Compare multiple organizational dimensions** simultaneously\n",
    "- **Identify top and bottom performers** across any metric  \n",
    "- **Discover hidden patterns** in your organizational structure\n",
    "- **Prioritize attention** by ranking all groups by importance\n",
    "\n",
    "This function is particularly valuable for leadership teams who need to quickly understand where to focus their attention across complex organizational hierarchies."
   ]
  },
  {
   "cell_type": "code",
   "execution_count": null,
   "id": "93519176",
   "metadata": {},
   "outputs": [
    {
     "data": {
      "text/html": [
       "<div>\n",
       "<style scoped>\n",
       "    .dataframe tbody tr th:only-of-type {\n",
       "        vertical-align: middle;\n",
       "    }\n",
       "\n",
       "    .dataframe tbody tr th {\n",
       "        vertical-align: top;\n",
       "    }\n",
       "\n",
       "    .dataframe thead th {\n",
       "        text-align: right;\n",
       "    }\n",
       "</style>\n",
       "<table border=\"1\" class=\"dataframe\">\n",
       "  <thead>\n",
       "    <tr style=\"text-align: right;\">\n",
       "      <th></th>\n",
       "      <th>hrvar</th>\n",
       "      <th>attributes</th>\n",
       "      <th>metric</th>\n",
       "      <th>n</th>\n",
       "    </tr>\n",
       "  </thead>\n",
       "  <tbody>\n",
       "    <tr>\n",
       "      <th>4</th>\n",
       "      <td>FunctionType</td>\n",
       "      <td>Technician</td>\n",
       "      <td>23.426417</td>\n",
       "      <td>292</td>\n",
       "    </tr>\n",
       "    <tr>\n",
       "      <th>0</th>\n",
       "      <td>LevelDesignation</td>\n",
       "      <td>Executive</td>\n",
       "      <td>23.285180</td>\n",
       "      <td>37</td>\n",
       "    </tr>\n",
       "    <tr>\n",
       "      <th>0</th>\n",
       "      <td>FunctionType</td>\n",
       "      <td>Advisor</td>\n",
       "      <td>23.252294</td>\n",
       "      <td>299</td>\n",
       "    </tr>\n",
       "    <tr>\n",
       "      <th>1</th>\n",
       "      <td>Organization</td>\n",
       "      <td>HR</td>\n",
       "      <td>23.249373</td>\n",
       "      <td>33</td>\n",
       "    </tr>\n",
       "    <tr>\n",
       "      <th>4</th>\n",
       "      <td>Organization</td>\n",
       "      <td>Operations</td>\n",
       "      <td>23.225234</td>\n",
       "      <td>22</td>\n",
       "    </tr>\n",
       "    <tr>\n",
       "      <th>5</th>\n",
       "      <td>Organization</td>\n",
       "      <td>Research</td>\n",
       "      <td>23.187623</td>\n",
       "      <td>52</td>\n",
       "    </tr>\n",
       "    <tr>\n",
       "      <th>0</th>\n",
       "      <td>Organization</td>\n",
       "      <td>Finance</td>\n",
       "      <td>23.100312</td>\n",
       "      <td>68</td>\n",
       "    </tr>\n",
       "    <tr>\n",
       "      <th>3</th>\n",
       "      <td>FunctionType</td>\n",
       "      <td>Specialist</td>\n",
       "      <td>23.092292</td>\n",
       "      <td>300</td>\n",
       "    </tr>\n",
       "    <tr>\n",
       "      <th>2</th>\n",
       "      <td>LevelDesignation</td>\n",
       "      <td>Senior IC</td>\n",
       "      <td>23.092287</td>\n",
       "      <td>87</td>\n",
       "    </tr>\n",
       "    <tr>\n",
       "      <th>0</th>\n",
       "      <td>SupervisorIndicator</td>\n",
       "      <td>IC</td>\n",
       "      <td>23.065672</td>\n",
       "      <td>34</td>\n",
       "    </tr>\n",
       "    <tr>\n",
       "      <th>1</th>\n",
       "      <td>SupervisorIndicator</td>\n",
       "      <td>Manager</td>\n",
       "      <td>23.052194</td>\n",
       "      <td>266</td>\n",
       "    </tr>\n",
       "    <tr>\n",
       "      <th>3</th>\n",
       "      <td>LevelDesignation</td>\n",
       "      <td>Senior Manager</td>\n",
       "      <td>23.037783</td>\n",
       "      <td>40</td>\n",
       "    </tr>\n",
       "    <tr>\n",
       "      <th>2</th>\n",
       "      <td>FunctionType</td>\n",
       "      <td>Manager</td>\n",
       "      <td>22.991247</td>\n",
       "      <td>300</td>\n",
       "    </tr>\n",
       "    <tr>\n",
       "      <th>6</th>\n",
       "      <td>Organization</td>\n",
       "      <td>Sales</td>\n",
       "      <td>22.984326</td>\n",
       "      <td>13</td>\n",
       "    </tr>\n",
       "    <tr>\n",
       "      <th>2</th>\n",
       "      <td>Organization</td>\n",
       "      <td>IT</td>\n",
       "      <td>22.980218</td>\n",
       "      <td>68</td>\n",
       "    </tr>\n",
       "    <tr>\n",
       "      <th>1</th>\n",
       "      <td>LevelDesignation</td>\n",
       "      <td>Junior IC</td>\n",
       "      <td>22.970769</td>\n",
       "      <td>136</td>\n",
       "    </tr>\n",
       "    <tr>\n",
       "      <th>1</th>\n",
       "      <td>FunctionType</td>\n",
       "      <td>Consultant</td>\n",
       "      <td>22.874061</td>\n",
       "      <td>298</td>\n",
       "    </tr>\n",
       "    <tr>\n",
       "      <th>3</th>\n",
       "      <td>Organization</td>\n",
       "      <td>Legal</td>\n",
       "      <td>22.725075</td>\n",
       "      <td>44</td>\n",
       "    </tr>\n",
       "  </tbody>\n",
       "</table>\n",
       "</div>"
      ],
      "text/plain": [
       "                 hrvar      attributes     metric    n\n",
       "4         FunctionType      Technician  23.426417  292\n",
       "0     LevelDesignation       Executive  23.285180   37\n",
       "0         FunctionType         Advisor  23.252294  299\n",
       "1         Organization              HR  23.249373   33\n",
       "4         Organization      Operations  23.225234   22\n",
       "5         Organization        Research  23.187623   52\n",
       "0         Organization         Finance  23.100312   68\n",
       "3         FunctionType      Specialist  23.092292  300\n",
       "2     LevelDesignation       Senior IC  23.092287   87\n",
       "0  SupervisorIndicator              IC  23.065672   34\n",
       "1  SupervisorIndicator         Manager  23.052194  266\n",
       "3     LevelDesignation  Senior Manager  23.037783   40\n",
       "2         FunctionType         Manager  22.991247  300\n",
       "6         Organization           Sales  22.984326   13\n",
       "2         Organization              IT  22.980218   68\n",
       "1     LevelDesignation       Junior IC  22.970769  136\n",
       "1         FunctionType      Consultant  22.874061  298\n",
       "3         Organization           Legal  22.725075   44"
      ]
     },
     "execution_count": 15,
     "metadata": {},
     "output_type": "execute_result"
    }
   ],
   "source": [
    "vi.create_rank(\n",
    "    data=pq_data,\n",
    "    metric='Collaboration_hours',\n",
    "    hrvar = ['Organization', 'FunctionType', 'LevelDesignation', 'SupervisorIndicator'],\n",
    "    mingroup=5,\n",
    "    return_type = 'table'\n",
    ")"
   ]
  },
  {
   "cell_type": "markdown",
   "id": "ef4c4ce1",
   "metadata": {},
   "source": [
    "This can be visualized as well:"
   ]
  },
  {
   "cell_type": "code",
   "execution_count": null,
   "id": "4a50f940",
   "metadata": {},
   "outputs": [
    {
     "data": {
      "image/png": "[encoded data removed]",
      "text/plain": [
       "<Figure size 700x400 with 1 Axes>"
      ]
     },
     "metadata": {},
     "output_type": "display_data"
    }
   ],
   "source": [
    "plot_rank = vi.create_rank(\n",
    "    data=pq_data,\n",
    "    metric='Collaboration_hours',\n",
    "    hrvar = ['Organization', 'FunctionType', 'LevelDesignation', 'SupervisorIndicator'],\n",
    "    mingroup=5,\n",
    "    return_type = 'plot'\n",
    ")"
   ]
  },
  {
   "cell_type": "markdown",
   "id": "a04c0e5f",
   "metadata": {},
   "source": [
    "### Validating / exploring the data\n",
    "\n",
    "Since HR variables or organizational attributes are a key part of the analysis process, it is also possible to perform some exploration or validation before we begin the analysis. "
   ]
  },
  {
   "cell_type": "code",
   "execution_count": null,
   "id": "4d0a85e8",
   "metadata": {},
   "outputs": [
    {
     "data": {
      "image/png": "[encoded data removed]",
      "text/plain": [
       "<Figure size 400x600 with 1 Axes>"
      ]
     },
     "metadata": {},
     "output_type": "display_data"
    }
   ],
   "source": [
    "plot_hrcount = vi.hrvar_count(data=pq_data, hrvar='Organization', return_type='plot')"
   ]
  },
  {
   "cell_type": "code",
   "execution_count": null,
   "id": "3be31d31",
   "metadata": {},
   "outputs": [
    {
     "data": {
      "text/html": [
       "<div>\n",
       "<style scoped>\n",
       "    .dataframe tbody tr th:only-of-type {\n",
       "        vertical-align: middle;\n",
       "    }\n",
       "\n",
       "    .dataframe tbody tr th {\n",
       "        vertical-align: top;\n",
       "    }\n",
       "\n",
       "    .dataframe thead th {\n",
       "        text-align: right;\n",
       "    }\n",
       "</style>\n",
       "<table border=\"1\" class=\"dataframe\">\n",
       "  <thead>\n",
       "    <tr style=\"text-align: right;\">\n",
       "      <th></th>\n",
       "      <th>Organization</th>\n",
       "      <th>n</th>\n",
       "    </tr>\n",
       "  </thead>\n",
       "  <tbody>\n",
       "    <tr>\n",
       "      <th>0</th>\n",
       "      <td>Finance</td>\n",
       "      <td>68</td>\n",
       "    </tr>\n",
       "    <tr>\n",
       "      <th>2</th>\n",
       "      <td>IT</td>\n",
       "      <td>68</td>\n",
       "    </tr>\n",
       "    <tr>\n",
       "      <th>5</th>\n",
       "      <td>Research</td>\n",
       "      <td>52</td>\n",
       "    </tr>\n",
       "    <tr>\n",
       "      <th>3</th>\n",
       "      <td>Legal</td>\n",
       "      <td>44</td>\n",
       "    </tr>\n",
       "    <tr>\n",
       "      <th>1</th>\n",
       "      <td>HR</td>\n",
       "      <td>33</td>\n",
       "    </tr>\n",
       "    <tr>\n",
       "      <th>4</th>\n",
       "      <td>Operations</td>\n",
       "      <td>22</td>\n",
       "    </tr>\n",
       "    <tr>\n",
       "      <th>6</th>\n",
       "      <td>Sales</td>\n",
       "      <td>13</td>\n",
       "    </tr>\n",
       "  </tbody>\n",
       "</table>\n",
       "</div>"
      ],
      "text/plain": [
       "  Organization   n\n",
       "0      Finance  68\n",
       "2           IT  68\n",
       "5     Research  52\n",
       "3        Legal  44\n",
       "1           HR  33\n",
       "4   Operations  22\n",
       "6        Sales  13"
      ]
     },
     "execution_count": 18,
     "metadata": {},
     "output_type": "execute_result"
    }
   ],
   "source": [
    "vi.hrvar_count(data=pq_data, hrvar='Organization', return_type='table')"
   ]
  },
  {
   "cell_type": "markdown",
   "id": "ff549ad2",
   "metadata": {},
   "source": [
    "## Additional Examples\n",
    "\n",
    "Below are additional examples using the demo dataset `pq_data` for some of the newer functions in **vivainsights**."
   ]
  },
  {
   "cell_type": "markdown",
   "id": "60848cb4",
   "metadata": {},
   "source": [
    "### Bubble Plot: `create_bubble()`\n",
    "\n",
    "The `create_bubble()` function visualizes the relationship between two metrics, with bubble size representing group size. This is useful for comparing two metrics across organizational groups."
   ]
  },
  {
   "cell_type": "code",
   "execution_count": null,
   "id": "659aa9fb",
   "metadata": {},
   "outputs": [
    {
     "data": {
      "image/png": "[encoded data removed]",
      "text/plain": [
       "<Figure size 800x600 with 1 Axes>"
      ]
     },
     "metadata": {},
     "output_type": "display_data"
    }
   ],
   "source": [
    "# Bubble plot: Collaboration_hours vs. Multitasking_hours by Organization\n",
    "bubble_plot = vi.create_bubble(\n",
    "    data=pq_data,\n",
    "    metric_x=\"Collaboration_hours\",\n",
    "    metric_y=\"Multitasking_hours\",\n",
    "    hrvar=\"Organization\",\n",
    "    mingroup=5,\n",
    "    return_type=\"plot\"\n",
    ")"
   ]
  },
  {
   "cell_type": "markdown",
   "id": "015404d2",
   "metadata": {},
   "source": [
    "### Trend Plot: `create_trend()`\n",
    "\n",
    "The `create_trend()` function provides a week-by-week heatmap view of a selected metric, grouped by an HR attribute. This helps identify trends and hotspots over time."
   ]
  },
  {
   "cell_type": "code",
   "execution_count": null,
   "id": "d2fb903e",
   "metadata": {},
   "outputs": [
    {
     "data": {
      "image/png": "[encoded data removed]",
      "text/plain": [
       "<Figure size 700x400 with 2 Axes>"
      ]
     },
     "metadata": {},
     "output_type": "display_data"
    }
   ],
   "source": [
    "# Trend plot: Collaboration_hours by LevelDesignation\n",
    "trend_plot = vi.create_trend(\n",
    "    data=pq_data,\n",
    "    metric=\"Collaboration_hours\",\n",
    "    hrvar=\"LevelDesignation\",\n",
    "    mingroup=5,\n",
    "    return_type=\"plot\"\n",
    ")"
   ]
  },
  {
   "cell_type": "markdown",
   "id": "45970812",
   "metadata": {},
   "source": [
    "### Key Metrics Scan: `keymetrics_scan()`\n",
    "\n",
    "The `keymetrics_scan()` function summarizes multiple key metrics across a grouping variable, returning either a heatmap or a summary table. This is useful for a high-level scan of organizational health."
   ]
  },
  {
   "cell_type": "code",
   "execution_count": null,
   "id": "e67baafa",
   "metadata": {},
   "outputs": [
    {
     "data": {
      "image/png": "[encoded data removed]",
      "text/plain": [
       "<Figure size 1000x720 with 9 Axes>"
      ]
     },
     "metadata": {},
     "output_type": "display_data"
    }
   ],
   "source": [
    "# Key metrics scan: heatmap by Organization\n",
    "keymetrics_plot = vi.keymetrics_scan(\n",
    "    data=pq_data,\n",
    "    hrvar=\"Organization\",\n",
    "    mingroup=5,\n",
    "    return_type=\"plot\"\n",
    ")"
   ]
  },
  {
   "cell_type": "code",
   "execution_count": null,
   "id": "387a463d",
   "metadata": {},
   "outputs": [
    {
     "data": {
      "text/html": [
       "<div>\n",
       "<style scoped>\n",
       "    .dataframe tbody tr th:only-of-type {\n",
       "        vertical-align: middle;\n",
       "    }\n",
       "\n",
       "    .dataframe tbody tr th {\n",
       "        vertical-align: top;\n",
       "    }\n",
       "\n",
       "    .dataframe thead th {\n",
       "        text-align: right;\n",
       "    }\n",
       "</style>\n",
       "<table border=\"1\" class=\"dataframe\">\n",
       "  <thead>\n",
       "    <tr style=\"text-align: right;\">\n",
       "      <th></th>\n",
       "      <th>Organization</th>\n",
       "      <th>Collaboration_hours</th>\n",
       "      <th>After_hours_collaboration_hours</th>\n",
       "      <th>Meetings</th>\n",
       "      <th>Meeting_hours</th>\n",
       "      <th>Emails_sent</th>\n",
       "      <th>Email_hours</th>\n",
       "      <th>Internal_network_size</th>\n",
       "      <th>External_network_size</th>\n",
       "      <th>Employee_Count</th>\n",
       "    </tr>\n",
       "  </thead>\n",
       "  <tbody>\n",
       "    <tr>\n",
       "      <th>0</th>\n",
       "      <td>Finance</td>\n",
       "      <td>23.100312</td>\n",
       "      <td>6.917373</td>\n",
       "      <td>16.652941</td>\n",
       "      <td>19.172045</td>\n",
       "      <td>44.213445</td>\n",
       "      <td>8.818406</td>\n",
       "      <td>123.316807</td>\n",
       "      <td>32.385294</td>\n",
       "      <td>68</td>\n",
       "    </tr>\n",
       "    <tr>\n",
       "      <th>1</th>\n",
       "      <td>HR</td>\n",
       "      <td>23.249373</td>\n",
       "      <td>6.834921</td>\n",
       "      <td>16.757576</td>\n",
       "      <td>18.894323</td>\n",
       "      <td>44.423377</td>\n",
       "      <td>8.843827</td>\n",
       "      <td>124.337662</td>\n",
       "      <td>32.619913</td>\n",
       "      <td>33</td>\n",
       "    </tr>\n",
       "    <tr>\n",
       "      <th>2</th>\n",
       "      <td>IT</td>\n",
       "      <td>22.980218</td>\n",
       "      <td>7.079035</td>\n",
       "      <td>16.614569</td>\n",
       "      <td>18.561649</td>\n",
       "      <td>43.871867</td>\n",
       "      <td>8.743025</td>\n",
       "      <td>122.583193</td>\n",
       "      <td>32.331092</td>\n",
       "      <td>68</td>\n",
       "    </tr>\n",
       "    <tr>\n",
       "      <th>3</th>\n",
       "      <td>Legal</td>\n",
       "      <td>22.725075</td>\n",
       "      <td>7.239442</td>\n",
       "      <td>16.357143</td>\n",
       "      <td>18.121719</td>\n",
       "      <td>43.328571</td>\n",
       "      <td>8.627604</td>\n",
       "      <td>120.527922</td>\n",
       "      <td>31.561688</td>\n",
       "      <td>44</td>\n",
       "    </tr>\n",
       "    <tr>\n",
       "      <th>4</th>\n",
       "      <td>Operations</td>\n",
       "      <td>23.225234</td>\n",
       "      <td>7.540438</td>\n",
       "      <td>16.711688</td>\n",
       "      <td>20.339809</td>\n",
       "      <td>44.345455</td>\n",
       "      <td>8.858412</td>\n",
       "      <td>124.092208</td>\n",
       "      <td>32.531169</td>\n",
       "      <td>22</td>\n",
       "    </tr>\n",
       "  </tbody>\n",
       "</table>\n",
       "</div>"
      ],
      "text/plain": [
       "  Organization  Collaboration_hours  After_hours_collaboration_hours  \\\n",
       "0      Finance            23.100312                         6.917373   \n",
       "1           HR            23.249373                         6.834921   \n",
       "2           IT            22.980218                         7.079035   \n",
       "3        Legal            22.725075                         7.239442   \n",
       "4   Operations            23.225234                         7.540438   \n",
       "\n",
       "    Meetings  Meeting_hours  Emails_sent  Email_hours  Internal_network_size  \\\n",
       "0  16.652941      19.172045    44.213445     8.818406             123.316807   \n",
       "1  16.757576      18.894323    44.423377     8.843827             124.337662   \n",
       "2  16.614569      18.561649    43.871867     8.743025             122.583193   \n",
       "3  16.357143      18.121719    43.328571     8.627604             120.527922   \n",
       "4  16.711688      20.339809    44.345455     8.858412             124.092208   \n",
       "\n",
       "   External_network_size  Employee_Count  \n",
       "0              32.385294              68  \n",
       "1              32.619913              33  \n",
       "2              32.331092              68  \n",
       "3              31.561688              44  \n",
       "4              32.531169              22  "
      ]
     },
     "execution_count": 22,
     "metadata": {},
     "output_type": "execute_result"
    }
   ],
   "source": [
    "# Key metrics scan: summary table by Organization\n",
    "keymetrics_table = vi.keymetrics_scan(\n",
    "    data=pq_data,\n",
    "    hrvar=\"Organization\",\n",
    "    mingroup=5,\n",
    "    return_type=\"table\"\n",
    ")\n",
    "keymetrics_table.head()"
   ]
  },
  {
   "cell_type": "markdown",
   "id": "09b224e2",
   "metadata": {},
   "source": [
    "## Network Analysis & Flow Visualization\n",
    "\n",
    "**vivainsights** includes powerful functions for analyzing collaboration networks and visualizing flows between organizational groups.\n",
    "\n",
    "### Sankey Diagrams: Visualizing Organizational Flows\n",
    "\n",
    "The `create_sankey()` function creates flow diagrams that show how people are distributed across different organizational attributes. This is particularly useful for understanding organizational structure and identifying potential silos."
   ]
  },
  {
   "cell_type": "code",
   "execution_count": null,
   "id": "c108d499",
   "metadata": {},
   "outputs": [
    {
     "data": {
      "application/vnd.plotly.v1+json": {
       "config": {
        "plotlyServerURL": "https://plot.ly"
       },
       "data": [
        {
         "link": {
          "source": [
           0,
           0,
           0,
           0,
           1,
           1,
           1,
           1,
           2,
           2,
           2,
           2,
           3,
           3,
           3,
           3,
           4,
           4,
           4,
           4,
           5,
           5,
           5,
           5,
           6,
           6
          ],
          "target": [
           7,
           8,
           9,
           10,
           7,
           8,
           9,
           10,
           7,
           8,
           9,
           10,
           7,
           8,
           9,
           10,
           7,
           8,
           9,
           10,
           7,
           8,
           9,
           10,
           7,
           8
          ],
          "value": [
           12,
           34,
           18,
           4,
           3,
           12,
           13,
           5,
           15,
           28,
           16,
           9,
           2,
           21,
           14,
           7,
           2,
           6,
           9,
           5,
           1,
           24,
           17,
           10,
           2,
           11
          ]
         },
         "node": {
          "color": [
           "#137648",
           "#31902b",
           "#b73b30",
           "#203e64",
           "#a1f51b",
           "#3996c6",
           "#d2704c",
           "#51afe3",
           "#2b75bf",
           "#ec94d7",
           "#14fb4d"
          ],
          "label": [
           "Finance",
           "HR",
           "IT",
           "Legal",
           "Operations",
           "Research",
           "Sales",
           "Executive ",
           "Junior IC ",
           "Senior IC ",
           "Senior Manager "
          ],
          "line": {
           "color": "black",
           "width": 0.5
          },
          "pad": 15,
          "thickness": 20
         },
         "type": "sankey"
        }
       ],
       "layout": {
        "font": {
         "size": 10
        },
        "template": {
         "data": {
          "bar": [
           {
            "error_x": {
             "color": "#2a3f5f"
            },
            "error_y": {
             "color": "#2a3f5f"
            },
            "marker": {
             "line": {
              "color": "#E5ECF6",
              "width": 0.5
             },
             "pattern": {
              "fillmode": "overlay",
              "size": 10,
              "solidity": 0.2
             }
            },
            "type": "bar"
           }
          ],
          "barpolar": [
           {
            "marker": {
             "line": {
              "color": "#E5ECF6",
              "width": 0.5
             },
             "pattern": {
              "fillmode": "overlay",
              "size": 10,
              "solidity": 0.2
             }
            },
            "type": "barpolar"
           }
          ],
          "carpet": [
           {
            "aaxis": {
             "endlinecolor": "#2a3f5f",
             "gridcolor": "white",
             "linecolor": "white",
             "minorgridcolor": "white",
             "startlinecolor": "#2a3f5f"
            },
            "baxis": {
             "endlinecolor": "#2a3f5f",
             "gridcolor": "white",
             "linecolor": "white",
             "minorgridcolor": "white",
             "startlinecolor": "#2a3f5f"
            },
            "type": "carpet"
           }
          ],
          "choropleth": [
           {
            "colorbar": {
             "outlinewidth": 0,
             "ticks": ""
            },
            "type": "choropleth"
           }
          ],
          "contour": [
           {
            "colorbar": {
             "outlinewidth": 0,
             "ticks": ""
            },
            "colorscale": [
             [
              0,
              "#0d0887"
             ],
             [
              0.1111111111111111,
              "#46039f"
             ],
             [
              0.2222222222222222,
              "#7201a8"
             ],
             [
              0.3333333333333333,
              "#9c179e"
             ],
             [
              0.4444444444444444,
              "#bd3786"
             ],
             [
              0.5555555555555556,
              "#d8576b"
             ],
             [
              0.6666666666666666,
              "#ed7953"
             ],
             [
              0.7777777777777778,
              "#fb9f3a"
             ],
             [
              0.8888888888888888,
              "#fdca26"
             ],
             [
              1,
              "#f0f921"
             ]
            ],
            "type": "contour"
           }
          ],
          "contourcarpet": [
           {
            "colorbar": {
             "outlinewidth": 0,
             "ticks": ""
            },
            "type": "contourcarpet"
           }
          ],
          "heatmap": [
           {
            "colorbar": {
             "outlinewidth": 0,
             "ticks": ""
            },
            "colorscale": [
             [
              0,
              "#0d0887"
             ],
             [
              0.1111111111111111,
              "#46039f"
             ],
             [
              0.2222222222222222,
              "#7201a8"
             ],
             [
              0.3333333333333333,
              "#9c179e"
             ],
             [
              0.4444444444444444,
              "#bd3786"
             ],
             [
              0.5555555555555556,
              "#d8576b"
             ],
             [
              0.6666666666666666,
              "#ed7953"
             ],
             [
              0.7777777777777778,
              "#fb9f3a"
             ],
             [
              0.8888888888888888,
              "#fdca26"
             ],
             [
              1,
              "#f0f921"
             ]
            ],
            "type": "heatmap"
           }
          ],
          "heatmapgl": [
           {
            "colorbar": {
             "outlinewidth": 0,
             "ticks": ""
            },
            "colorscale": [
             [
              0,
              "#0d0887"
             ],
             [
              0.1111111111111111,
              "#46039f"
             ],
             [
              0.2222222222222222,
              "#7201a8"
             ],
             [
              0.3333333333333333,
              "#9c179e"
             ],
             [
              0.4444444444444444,
              "#bd3786"
             ],
             [
              0.5555555555555556,
              "#d8576b"
             ],
             [
              0.6666666666666666,
              "#ed7953"
             ],
             [
              0.7777777777777778,
              "#fb9f3a"
             ],
             [
              0.8888888888888888,
              "#fdca26"
             ],
             [
              1,
              "#f0f921"
             ]
            ],
            "type": "heatmapgl"
           }
          ],
          "histogram": [
           {
            "marker": {
             "pattern": {
              "fillmode": "overlay",
              "size": 10,
              "solidity": 0.2
             }
            },
            "type": "histogram"
           }
          ],
          "histogram2d": [
           {
            "colorbar": {
             "outlinewidth": 0,
             "ticks": ""
            },
            "colorscale": [
             [
              0,
              "#0d0887"
             ],
             [
              0.1111111111111111,
              "#46039f"
             ],
             [
              0.2222222222222222,
              "#7201a8"
             ],
             [
              0.3333333333333333,
              "#9c179e"
             ],
             [
              0.4444444444444444,
              "#bd3786"
             ],
             [
              0.5555555555555556,
              "#d8576b"
             ],
             [
              0.6666666666666666,
              "#ed7953"
             ],
             [
              0.7777777777777778,
              "#fb9f3a"
             ],
             [
              0.8888888888888888,
              "#fdca26"
             ],
             [
              1,
              "#f0f921"
             ]
            ],
            "type": "histogram2d"
           }
          ],
          "histogram2dcontour": [
           {
            "colorbar": {
             "outlinewidth": 0,
             "ticks": ""
            },
            "colorscale": [
             [
              0,
              "#0d0887"
             ],
             [
              0.1111111111111111,
              "#46039f"
             ],
             [
              0.2222222222222222,
              "#7201a8"
             ],
             [
              0.3333333333333333,
              "#9c179e"
             ],
             [
              0.4444444444444444,
              "#bd3786"
             ],
             [
              0.5555555555555556,
              "#d8576b"
             ],
             [
              0.6666666666666666,
              "#ed7953"
             ],
             [
              0.7777777777777778,
              "#fb9f3a"
             ],
             [
              0.8888888888888888,
              "#fdca26"
             ],
             [
              1,
              "#f0f921"
             ]
            ],
            "type": "histogram2dcontour"
           }
          ],
          "mesh3d": [
           {
            "colorbar": {
             "outlinewidth": 0,
             "ticks": ""
            },
            "type": "mesh3d"
           }
          ],
          "parcoords": [
           {
            "line": {
             "colorbar": {
              "outlinewidth": 0,
              "ticks": ""
             }
            },
            "type": "parcoords"
           }
          ],
          "pie": [
           {
            "automargin": true,
            "type": "pie"
           }
          ],
          "scatter": [
           {
            "fillpattern": {
             "fillmode": "overlay",
             "size": 10,
             "solidity": 0.2
            },
            "type": "scatter"
           }
          ],
          "scatter3d": [
           {
            "line": {
             "colorbar": {
              "outlinewidth": 0,
              "ticks": ""
             }
            },
            "marker": {
             "colorbar": {
              "outlinewidth": 0,
              "ticks": ""
             }
            },
            "type": "scatter3d"
           }
          ],
          "scattercarpet": [
           {
            "marker": {
             "colorbar": {
              "outlinewidth": 0,
              "ticks": ""
             }
            },
            "type": "scattercarpet"
           }
          ],
          "scattergeo": [
           {
            "marker": {
             "colorbar": {
              "outlinewidth": 0,
              "ticks": ""
             }
            },
            "type": "scattergeo"
           }
          ],
          "scattergl": [
           {
            "marker": {
             "colorbar": {
              "outlinewidth": 0,
              "ticks": ""
             }
            },
            "type": "scattergl"
           }
          ],
          "scattermapbox": [
           {
            "marker": {
             "colorbar": {
              "outlinewidth": 0,
              "ticks": ""
             }
            },
            "type": "scattermapbox"
           }
          ],
          "scatterpolar": [
           {
            "marker": {
             "colorbar": {
              "outlinewidth": 0,
              "ticks": ""
             }
            },
            "type": "scatterpolar"
           }
          ],
          "scatterpolargl": [
           {
            "marker": {
             "colorbar": {
              "outlinewidth": 0,
              "ticks": ""
             }
            },
            "type": "scatterpolargl"
           }
          ],
          "scatterternary": [
           {
            "marker": {
             "colorbar": {
              "outlinewidth": 0,
              "ticks": ""
             }
            },
            "type": "scatterternary"
           }
          ],
          "surface": [
           {
            "colorbar": {
             "outlinewidth": 0,
             "ticks": ""
            },
            "colorscale": [
             [
              0,
              "#0d0887"
             ],
             [
              0.1111111111111111,
              "#46039f"
             ],
             [
              0.2222222222222222,
              "#7201a8"
             ],
             [
              0.3333333333333333,
              "#9c179e"
             ],
             [
              0.4444444444444444,
              "#bd3786"
             ],
             [
              0.5555555555555556,
              "#d8576b"
             ],
             [
              0.6666666666666666,
              "#ed7953"
             ],
             [
              0.7777777777777778,
              "#fb9f3a"
             ],
             [
              0.8888888888888888,
              "#fdca26"
             ],
             [
              1,
              "#f0f921"
             ]
            ],
            "type": "surface"
           }
          ],
          "table": [
           {
            "cells": {
             "fill": {
              "color": "#EBF0F8"
             },
             "line": {
              "color": "white"
             }
            },
            "header": {
             "fill": {
              "color": "#C8D4E3"
             },
             "line": {
              "color": "white"
             }
            },
            "type": "table"
           }
          ]
         },
         "layout": {
          "annotationdefaults": {
           "arrowcolor": "#2a3f5f",
           "arrowhead": 0,
           "arrowwidth": 1
          },
          "autotypenumbers": "strict",
          "coloraxis": {
           "colorbar": {
            "outlinewidth": 0,
            "ticks": ""
           }
          },
          "colorscale": {
           "diverging": [
            [
             0,
             "#8e0152"
            ],
            [
             0.1,
             "#c51b7d"
            ],
            [
             0.2,
             "#de77ae"
            ],
            [
             0.3,
             "#f1b6da"
            ],
            [
             0.4,
             "#fde0ef"
            ],
            [
             0.5,
             "#f7f7f7"
            ],
            [
             0.6,
             "#e6f5d0"
            ],
            [
             0.7,
             "#b8e186"
            ],
            [
             0.8,
             "#7fbc41"
            ],
            [
             0.9,
             "#4d9221"
            ],
            [
             1,
             "#276419"
            ]
           ],
           "sequential": [
            [
             0,
             "#0d0887"
            ],
            [
             0.1111111111111111,
             "#46039f"
            ],
            [
             0.2222222222222222,
             "#7201a8"
            ],
            [
             0.3333333333333333,
             "#9c179e"
            ],
            [
             0.4444444444444444,
             "#bd3786"
            ],
            [
             0.5555555555555556,
             "#d8576b"
            ],
            [
             0.6666666666666666,
             "#ed7953"
            ],
            [
             0.7777777777777778,
             "#fb9f3a"
            ],
            [
             0.8888888888888888,
             "#fdca26"
            ],
            [
             1,
             "#f0f921"
            ]
           ],
           "sequentialminus": [
            [
             0,
             "#0d0887"
            ],
            [
             0.1111111111111111,
             "#46039f"
            ],
            [
             0.2222222222222222,
             "#7201a8"
            ],
            [
             0.3333333333333333,
             "#9c179e"
            ],
            [
             0.4444444444444444,
             "#bd3786"
            ],
            [
             0.5555555555555556,
             "#d8576b"
            ],
            [
             0.6666666666666666,
             "#ed7953"
            ],
            [
             0.7777777777777778,
             "#fb9f3a"
            ],
            [
             0.8888888888888888,
             "#fdca26"
            ],
            [
             1,
             "#f0f921"
            ]
           ]
          },
          "colorway": [
           "#636efa",
           "#EF553B",
           "#00cc96",
           "#ab63fa",
           "#FFA15A",
           "#19d3f3",
           "#FF6692",
           "#B6E880",
           "#FF97FF",
           "#FECB52"
          ],
          "font": {
           "color": "#2a3f5f"
          },
          "geo": {
           "bgcolor": "white",
           "lakecolor": "white",
           "landcolor": "#E5ECF6",
           "showlakes": true,
           "showland": true,
           "subunitcolor": "white"
          },
          "hoverlabel": {
           "align": "left"
          },
          "hovermode": "closest",
          "mapbox": {
           "style": "light"
          },
          "paper_bgcolor": "white",
          "plot_bgcolor": "#E5ECF6",
          "polar": {
           "angularaxis": {
            "gridcolor": "white",
            "linecolor": "white",
            "ticks": ""
           },
           "bgcolor": "#E5ECF6",
           "radialaxis": {
            "gridcolor": "white",
            "linecolor": "white",
            "ticks": ""
           }
          },
          "scene": {
           "xaxis": {
            "backgroundcolor": "#E5ECF6",
            "gridcolor": "white",
            "gridwidth": 2,
            "linecolor": "white",
            "showbackground": true,
            "ticks": "",
            "zerolinecolor": "white"
           },
           "yaxis": {
            "backgroundcolor": "#E5ECF6",
            "gridcolor": "white",
            "gridwidth": 2,
            "linecolor": "white",
            "showbackground": true,
            "ticks": "",
            "zerolinecolor": "white"
           },
           "zaxis": {
            "backgroundcolor": "#E5ECF6",
            "gridcolor": "white",
            "gridwidth": 2,
            "linecolor": "white",
            "showbackground": true,
            "ticks": "",
            "zerolinecolor": "white"
           }
          },
          "shapedefaults": {
           "line": {
            "color": "#2a3f5f"
           }
          },
          "ternary": {
           "aaxis": {
            "gridcolor": "white",
            "linecolor": "white",
            "ticks": ""
           },
           "baxis": {
            "gridcolor": "white",
            "linecolor": "white",
            "ticks": ""
           },
           "bgcolor": "#E5ECF6",
           "caxis": {
            "gridcolor": "white",
            "linecolor": "white",
            "ticks": ""
           }
          },
          "title": {
           "x": 0.05
          },
          "xaxis": {
           "automargin": true,
           "gridcolor": "white",
           "linecolor": "white",
           "ticks": "",
           "title": {
            "standoff": 15
           },
           "zerolinecolor": "white",
           "zerolinewidth": 2
          },
          "yaxis": {
           "automargin": true,
           "gridcolor": "white",
           "linecolor": "white",
           "ticks": "",
           "title": {
            "standoff": 15
           },
           "zerolinecolor": "white",
           "zerolinewidth": 2
          }
         }
        },
        "title": {
         "text": "Sankey Diagram of Organization and LevelDesignation"
        }
       }
      }
     },
     "metadata": {},
     "output_type": "display_data"
    }
   ],
   "source": [
    "# First, create a summary table for the Sankey diagram\n",
    "# Sankey diagrams need aggregated data showing flows between two variables\n",
    "sankey_data = pq_data.groupby(['Organization', 'LevelDesignation'])['PersonId'].nunique().reset_index(name='n')\n",
    "\n",
    "# Create Sankey diagram showing flow from Organization to Level\n",
    "sankey_plot = vi.create_sankey(\n",
    "    data=sankey_data,\n",
    "    var1='Organization',  # Left side of diagram\n",
    "    var2='LevelDesignation',  # Right side of diagram  \n",
    "    count='n'  # The flow volume\n",
    ")"
   ]
  },
  {
   "cell_type": "markdown",
   "id": "00bfa83c",
   "metadata": {},
   "source": [
    "## Advanced Analytics\n",
    "\n",
    "### Information Value Analysis: Predictive Insights\n",
    "\n",
    "The `create_IV()` function helps you understand which organizational attributes are most predictive of key outcomes. This is particularly useful for identifying factors that drive engagement, performance, or retention.\n",
    "\n",
    "Information Value (IV) measures the predictive strength of variables:\n",
    "- IV < 0.02: Not useful for prediction\n",
    "- 0.02 ≤ IV < 0.1: Weak predictive power  \n",
    "- 0.1 ≤ IV < 0.3: Medium predictive power\n",
    "- 0.3 ≤ IV < 0.5: Strong predictive power\n",
    "- IV ≥ 0.5: Very strong (potentially suspicious)"
   ]
  },
  {
   "cell_type": "code",
   "execution_count": null,
   "id": "89ad06d7",
   "metadata": {},
   "outputs": [
    {
     "ename": "NameError",
     "evalue": "name 'pq_data' is not defined",
     "output_type": "error",
     "traceback": [
      "\u001b[1;31m---------------------------------------------------------------------------\u001b[0m",
      "\u001b[1;31mNameError\u001b[0m                                 Traceback (most recent call last)",
      "Cell \u001b[1;32mIn[2], line 3\u001b[0m\n\u001b[0;32m      1\u001b[0m \u001b[38;5;66;03m# Information Value analysis: Which factors predict high collaboration?\u001b[39;00m\n\u001b[0;32m      2\u001b[0m \u001b[38;5;66;03m# First, create a binary outcome variable for high collaboration (>median)\u001b[39;00m\n\u001b[1;32m----> 3\u001b[0m pq_data_iv \u001b[38;5;241m=\u001b[39m \u001b[43mpq_data\u001b[49m\u001b[38;5;241m.\u001b[39mcopy()\n\u001b[0;32m      4\u001b[0m copilot_median \u001b[38;5;241m=\u001b[39m pq_data_iv[\u001b[38;5;124m'\u001b[39m\u001b[38;5;124mCopilot_actions_taken_in_Teams\u001b[39m\u001b[38;5;124m'\u001b[39m]\u001b[38;5;241m.\u001b[39mmedian()\n\u001b[0;32m      5\u001b[0m pq_data_iv[\u001b[38;5;124m'\u001b[39m\u001b[38;5;124mHigh_Copilot\u001b[39m\u001b[38;5;124m'\u001b[39m] \u001b[38;5;241m=\u001b[39m (pq_data_iv[\u001b[38;5;124m'\u001b[39m\u001b[38;5;124mCopilot_actions_taken_in_Teams\u001b[39m\u001b[38;5;124m'\u001b[39m] \u001b[38;5;241m>\u001b[39m copilot_median)\u001b[38;5;241m.\u001b[39mastype(\u001b[38;5;28mint\u001b[39m)\n",
      "\u001b[1;31mNameError\u001b[0m: name 'pq_data' is not defined"
     ]
    }
   ],
   "source": [
    "# Information Value analysis: Which factors predict high collaboration?\n",
    "# First, create a binary outcome variable for high collaboration (>median)\n",
    "pq_data_iv = vi.load_pq_data()\n",
    "copilot_median = pq_data_iv['Copilot_actions_taken_in_Teams'].median()\n",
    "pq_data_iv['High_Copilot'] = (pq_data_iv['Copilot_actions_taken_in_Teams'] > copilot_median).astype(int)\n",
    "\n",
    "# Define predictor variables\n",
    "predictors = ['Email_hours', 'Meeting_hours', 'Chat_hours']\n",
    "\n",
    "# Run Information Value analysis\n",
    "vi.create_IV(\n",
    "    data=pq_data_iv,\n",
    "    predictors=predictors,\n",
    "    outcome='High_Copilot',\n",
    "    return_type='plot'\n",
    ")"
   ]
  },
  {
   "cell_type": "markdown",
   "id": "bed69a43",
   "metadata": {},
   "source": [
    "## Putting It All Together: Analysis Best Practices\n",
    "\n",
    "The **vivainsights** package provides a comprehensive toolkit for organizational analytics. Here are some best practices for effective analysis:\n",
    "\n",
    "### 1. Start with Exploration\n",
    "- Use `create_rank()` and `keymetrics_scan()` to get a high-level overview\n",
    "- Apply `hrvar_count()` to understand your population segments\n",
    "- Check data quality with `identify_outlier()` and related functions\n",
    "\n",
    "### 2. Dive Deep with Distribution Analysis  \n",
    "- Use `create_boxplot()` to identify outliers and understand spread\n",
    "- Apply `create_lorenz()` to assess inequality and concentration\n",
    "- Leverage `create_inc()` to understand threshold exceedances\n",
    "\n",
    "### 3. Understand Relationships\n",
    "- Use `create_bubble()` to explore relationships between two metrics\n",
    "- Apply `create_trend()` to identify patterns over time\n",
    "- Visualize organizational flows with `create_sankey()`\n",
    "\n",
    "### 4. Advanced Insights\n",
    "- Use `create_IV()` for predictive analytics and identifying key drivers\n",
    "- Apply network analysis functions for collaboration insights\n",
    "\n",
    "### 5. Export and Share\n",
    "- All functions support `return_type='table'` for extracting underlying data\n",
    "- Use `export()` to copy tables to clipboard for easy sharing\n",
    "- Combine multiple analyses to tell compelling data stories\n",
    "\n",
    "This comprehensive approach ensures you can uncover meaningful insights about collaboration, engagement, and organizational health using Viva Insights data."
   ]
  }
 ],
 "metadata": {
  "kernelspec": {
   "display_name": "Python 3",
   "language": "python",
   "name": "python3"
  },
  "language_info": {
   "codemirror_mode": {
    "name": "ipython",
    "version": 3
   },
   "file_extension": ".py",
   "mimetype": "text/x-python",
   "name": "python",
   "nbconvert_exporter": "python",
   "pygments_lexer": "ipython3",
   "version": "3.12.10"
  }
 },
 "nbformat": 4,
 "nbformat_minor": 5
}
