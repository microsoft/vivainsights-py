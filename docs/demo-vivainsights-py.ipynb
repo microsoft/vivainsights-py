{
 "cells": [
  {
   "cell_type": "markdown",
   "id": "5f785227",
   "metadata": {},
   "source": [
    "# Demo Notebook for the vivainsights Python package\n",
    "\n",
    "Welcome to the comprehensive demo of the **vivainsights** Python package! This notebook showcases the full analytical capabilities available for Microsoft Viva Insights data analysis.\n",
    "\n",
    "**vivainsights** is a powerful Python library designed to help you:\n",
    "- 📊 **Visualize** collaboration patterns and organizational metrics\n",
    "- 🔍 **Analyze** employee engagement and wellbeing indicators  \n",
    "- 📈 **Identify** trends, outliers, and areas for improvement\n",
    "- 🌐 **Explore** collaboration networks and organizational dynamics\n",
    "- ⚡ **Generate** actionable insights for leaders and HR teams\n",
    "\n",
    "This demo covers the major function categories with real examples using sample Person Query data.\n",
    "\n",
    "For more information about the package:\n",
    "- [📚 Documentation](https://microsoft.github.io/vivainsights-py/) - Complete API reference and guides\n",
    "- [💻 GitHub Repository](https://github.com/microsoft/vivainsights-py/) - Source code and issue tracking\n",
    "- [🎯 Use Cases](https://microsoft.github.io/vivainsights-py/about.html) - Real-world applications and examples"
   ]
  },
  {
   "cell_type": "markdown",
   "id": "90e53e1a",
   "metadata": {},
   "source": [
    "## Getting Started: Loading Data and Libraries\n",
    "\n",
    "The **vivainsights** package comes with built-in sample datasets that mirror the structure of real Viva Insights exports. The `load_pq_data()` function loads a representative Person Query dataset containing:\n",
    "\n",
    "- **Individual metrics**: Collaboration hours, email activity, meeting patterns\n",
    "- **Organizational attributes**: Function, level, organization, manager status  \n",
    "- **Time series data**: Weekly observations for trend analysis\n",
    "- **Network data**: Collaboration patterns across the organization\n",
    "\n",
    "Let's start by loading the library and exploring the sample data:"
   ]
  },
  {
   "cell_type": "code",
   "execution_count": null,
   "id": "6f2e905e",
   "metadata": {},
   "outputs": [],
   "source": [
    "import pip\n",
    "\n",
    "def install_local_package(path_to_package):\n",
    "    pip.main(['install', path_to_package])\n",
    "\n",
    "# Example\n",
    "install_local_package('C:\\\\Users\\\\martinchan\\\\OneDrive - Microsoft\\\\Documents\\\\GitHub\\\\vivainsights-py')"
   ]
  },
  {
   "cell_type": "code",
   "execution_count": null,
   "id": "da67d55b",
   "metadata": {},
   "outputs": [],
   "source": [
    "import vivainsights as vi\n",
    "\n",
    "# load in-built datasets\n",
    "pq_data = vi.load_pq_data() # load and assign in-built person query"
   ]
  },
  {
   "cell_type": "code",
   "execution_count": null,
   "id": "7659175c",
   "metadata": {},
   "outputs": [],
   "source": [
    "import warnings\n",
    "warnings.filterwarnings('ignore')"
   ]
  },
  {
   "cell_type": "code",
   "execution_count": null,
   "id": "247ab3d3",
   "metadata": {},
   "outputs": [],
   "source": [
    "pq_data.head()"
   ]
  },
  {
   "cell_type": "markdown",
   "id": "c1a9260c",
   "metadata": {},
   "source": [
    "`extract_hr()` returns all the HR or organizational attributes it identifies within the target DataFrame:"
   ]
  },
  {
   "cell_type": "code",
   "execution_count": null,
   "id": "aa7b04e7",
   "metadata": {},
   "outputs": [],
   "source": [
    "vi.extract_hr(pq_data)"
   ]
  },
  {
   "cell_type": "markdown",
   "id": "caf67b86",
   "metadata": {},
   "source": [
    "## Core Visualization Functions\n",
    "\n",
    "The **vivainsights** package provides a comprehensive suite of visualization functions, each designed for specific analytical needs. All visualization functions follow a consistent pattern:\n",
    "\n",
    "**Key Parameters:**\n",
    "- `data` - Your Viva Insights dataset (Person Query, Meeting Query, etc.)\n",
    "- `metric` - The collaboration metric to analyze (e.g., 'Collaboration_hours', 'Emails_sent')\n",
    "- `hrvar` - Organizational grouping variable (e.g., 'Organization', 'LevelDesignation')  \n",
    "- `mingroup` - Minimum group size to display (privacy protection)\n",
    "- `return_type` - Output format: `'plot'` (visualization) or `'table'` (summary data)\n",
    "\n",
    "### Bar Charts: Comparing Groups\n",
    "\n",
    "The `create_bar()` function creates person-averaged bar charts - it first calculates individual averages, then group averages. This prevents larger groups from dominating the analysis and ensures fair comparison across organizational segments."
   ]
  },
  {
   "cell_type": "code",
   "execution_count": null,
   "id": "f64fb0fe",
   "metadata": {
    "scrolled": true
   },
   "outputs": [],
   "source": [
    "plot_bar = vi.create_bar(data=pq_data, metric='Emails_sent', hrvar='Organization', mingroup=5)"
   ]
  },
  {
   "cell_type": "markdown",
   "id": "6a738776",
   "metadata": {},
   "source": [
    "You can also ask the function to return a summary table by specifying the parameter `return_type`. This summary table can be copied to a clipboard with `export()`."
   ]
  },
  {
   "cell_type": "code",
   "execution_count": null,
   "id": "60dae622",
   "metadata": {},
   "outputs": [],
   "source": [
    "tb = vi.create_bar(data=pq_data, metric='Emails_sent', hrvar='Organization', mingroup=5, return_type='table')\n",
    "print(tb)"
   ]
  },
  {
   "cell_type": "code",
   "execution_count": null,
   "id": "ba37d24b",
   "metadata": {},
   "outputs": [],
   "source": [
    "vi.export(tb)"
   ]
  },
  {
   "cell_type": "markdown",
   "id": "6f5d5fa5",
   "metadata": {},
   "source": [
    "Here are some other visual outputs, and their accompanying summary table outputs:"
   ]
  },
  {
   "cell_type": "code",
   "execution_count": null,
   "id": "a511e696",
   "metadata": {},
   "outputs": [],
   "source": [
    "plot_line = vi.create_line(data=pq_data, metric='Emails_sent', hrvar='Level', mingroup=5, return_type='plot')"
   ]
  },
  {
   "cell_type": "code",
   "execution_count": null,
   "id": "963db182",
   "metadata": {},
   "outputs": [],
   "source": [
    "vi.create_line(data=pq_data, metric='Emails_sent', hrvar='Organization', mingroup=5, return_type='table').head()"
   ]
  },
  {
   "cell_type": "markdown",
   "id": "35195e56",
   "metadata": {},
   "source": [
    "#### Distribution & Inequality Analysis\n",
    "\n",
    "Understanding how metrics are distributed across your organization is crucial for identifying patterns, outliers, and inequality. The **vivainsights** package provides powerful functions for distribution analysis that go beyond simple averages.\n",
    "\n",
    "**Distribution Functions:**\n",
    "- `create_boxplot()` - Visualizes metric distributions and identifies outliers across groups\n",
    "- `create_lorenz()` - Analyzes inequality using Lorenz curves and Gini coefficients\n",
    "\n",
    "These functions are particularly valuable when analyzing engagement metrics. For example, while the average \"Collaboration hours\" might appear healthy across your organization, the distribution could reveal that a small group of employees are experiencing unsustainable collaboration loads, while others might be under-collaborating."
   ]
  },
  {
   "cell_type": "code",
   "execution_count": null,
   "id": "437e069a",
   "metadata": {},
   "outputs": [],
   "source": [
    "plot_box = vi.create_boxplot(data=pq_data, metric='Emails_sent', hrvar='Organization', mingroup=5, return_type='plot')"
   ]
  },
  {
   "cell_type": "code",
   "execution_count": null,
   "id": "c8aaa5a1",
   "metadata": {},
   "outputs": [],
   "source": [
    "vi.create_boxplot(data=pq_data, metric='Emails_sent', hrvar='Organization', mingroup=5, return_type='table')"
   ]
  },
  {
   "cell_type": "markdown",
   "id": "18b2ee50",
   "metadata": {},
   "source": [
    "### Lorenz Curve: Analyzing Inequality\n",
    "\n",
    "The `create_lorenz()` function helps you understand inequality within your data by plotting Lorenz curves and calculating Gini coefficients. This is particularly useful for identifying whether certain metrics are concentrated among a small subset of employees.\n",
    "\n",
    "A Gini coefficient close to 0 indicates equality (everyone has similar values), while a value close to 1 indicates high inequality (few people have most of the value)."
   ]
  },
  {
   "cell_type": "code",
   "execution_count": null,
   "id": "66e2b9e9",
   "metadata": {},
   "outputs": [],
   "source": [
    "# Lorenz curve for collaboration hours - shows inequality across the population\n",
    "lorenz_plot = vi.create_lorenz(data=pq_data, metric='Collaboration_hours', return_type='plot')"
   ]
  },
  {
   "cell_type": "code",
   "execution_count": null,
   "id": "edb1a296",
   "metadata": {},
   "outputs": [],
   "source": [
    "# Get the Gini coefficient to quantify inequality\n",
    "gini_coef = vi.create_lorenz(data=pq_data, metric='Collaboration_hours', return_type='gini')\n",
    "print(f\"Gini coefficient for Collaboration Hours: {gini_coef:.3f}\")\n",
    "print(f\"Interpretation: {'High inequality' if gini_coef > 0.5 else 'Moderate inequality' if gini_coef > 0.3 else 'Low inequality'}\")"
   ]
  },
  {
   "cell_type": "markdown",
   "id": "639c2daf",
   "metadata": {},
   "source": [
    "### Incidence Analysis: Understanding Thresholds\n",
    "\n",
    "The `create_inc()` function helps you understand what percentage of your population exceeds certain thresholds for key metrics. This is crucial for identifying employees who might be at risk of burnout or disengagement.\n",
    "\n",
    "For example, you might want to know what percentage of employees in each organization have collaboration hours above a healthy threshold."
   ]
  },
  {
   "cell_type": "code",
   "execution_count": null,
   "id": "2fa3bda3",
   "metadata": {},
   "outputs": [],
   "source": [
    "# Incidence analysis: What % of people have >20 collaboration hours per week?\n",
    "inc_plot = vi.create_inc(\n",
    "    data=pq_data,\n",
    "    metric='Collaboration_hours',\n",
    "    hrvar='Organization',\n",
    "    threshold=20,  # Threshold of 20 hours per week\n",
    "    position='above',  # Looking at people above this threshold\n",
    "    mingroup=5,\n",
    "    return_type='plot'\n",
    ")"
   ]
  },
  {
   "cell_type": "code",
   "execution_count": null,
   "id": "33e37088",
   "metadata": {},
   "outputs": [],
   "source": [
    "# Get the exact percentages as a table\n",
    "inc_table = vi.create_inc(\n",
    "    data=pq_data,\n",
    "    metric='Collaboration_hours',\n",
    "    hrvar='Organization',\n",
    "    threshold=20,\n",
    "    position='above',\n",
    "    mingroup=5,\n",
    "    return_type='table'\n",
    ")\n",
    "print(\"Percentage of employees with >20 collaboration hours per week:\")\n",
    "print(inc_table)"
   ]
  },
  {
   "cell_type": "markdown",
   "id": "851fcbf8",
   "metadata": {},
   "source": [
    "## Exploratory Data Analysis\n",
    "\n",
    "### Multi-dimensional Ranking: Finding Top Contributors and Risk Groups\n",
    "\n",
    "The `create_rank()` function is one of the most powerful tools for rapid organizational exploration. It allows you to:\n",
    "\n",
    "- **Compare multiple organizational dimensions** simultaneously\n",
    "- **Identify top and bottom performers** across any metric  \n",
    "- **Discover hidden patterns** in your organizational structure\n",
    "- **Prioritize attention** by ranking all groups by importance\n",
    "\n",
    "This function is particularly valuable for leadership teams who need to quickly understand where to focus their attention across complex organizational hierarchies."
   ]
  },
  {
   "cell_type": "code",
   "execution_count": null,
   "id": "93519176",
   "metadata": {},
   "outputs": [],
   "source": [
    "vi.create_rank(\n",
    "    data=pq_data,\n",
    "    metric='Collaboration_hours',\n",
    "    hrvar = ['Organization', 'FunctionType', 'LevelDesignation', 'SupervisorIndicator'],\n",
    "    mingroup=5,\n",
    "    return_type = 'table'\n",
    ")"
   ]
  },
  {
   "cell_type": "markdown",
   "id": "ef4c4ce1",
   "metadata": {},
   "source": [
    "This can be visualized as well:"
   ]
  },
  {
   "cell_type": "code",
   "execution_count": null,
   "id": "4a50f940",
   "metadata": {},
   "outputs": [],
   "source": [
    "plot_rank = vi.create_rank(\n",
    "    data=pq_data,\n",
    "    metric='Collaboration_hours',\n",
    "    hrvar = ['Organization', 'FunctionType', 'LevelDesignation', 'SupervisorIndicator'],\n",
    "    mingroup=5,\n",
    "    return_type = 'plot'\n",
    ")"
   ]
  },
  {
   "cell_type": "markdown",
   "id": "a04c0e5f",
   "metadata": {},
   "source": [
    "### Validating / exploring the data\n",
    "\n",
    "Since HR variables or organizational attributes are a key part of the analysis process, it is also possible to perform some exploration or validation before we begin the analysis. "
   ]
  },
  {
   "cell_type": "code",
   "execution_count": null,
   "id": "4d0a85e8",
   "metadata": {},
   "outputs": [],
   "source": [
    "plot_hrcount = vi.hrvar_count(data=pq_data, hrvar='Organization', return_type='plot')"
   ]
  },
  {
   "cell_type": "code",
   "execution_count": null,
   "id": "3be31d31",
   "metadata": {},
   "outputs": [],
   "source": [
    "vi.hrvar_count(data=pq_data, hrvar='Organization', return_type='table')"
   ]
  },
  {
   "cell_type": "markdown",
   "id": "ff549ad2",
   "metadata": {},
   "source": [
    "## Additional Examples\n",
    "\n",
    "Below are additional examples using the demo dataset `pq_data` for some of the newer functions in **vivainsights**."
   ]
  },
  {
   "cell_type": "markdown",
   "id": "60848cb4",
   "metadata": {},
   "source": [
    "### Bubble Plot: `create_bubble()`\n",
    "\n",
    "The `create_bubble()` function visualizes the relationship between two metrics, with bubble size representing group size. This is useful for comparing two metrics across organizational groups."
   ]
  },
  {
   "cell_type": "code",
   "execution_count": null,
   "id": "659aa9fb",
   "metadata": {},
   "outputs": [],
   "source": [
    "# Bubble plot: Collaboration_hours vs. Multitasking_hours by Organization\n",
    "bubble_plot = vi.create_bubble(\n",
    "    data=pq_data,\n",
    "    metric_x=\"Collaboration_hours\",\n",
    "    metric_y=\"Multitasking_hours\",\n",
    "    hrvar=\"Organization\",\n",
    "    mingroup=5,\n",
    "    return_type=\"plot\"\n",
    ")"
   ]
  },
  {
   "cell_type": "markdown",
   "id": "015404d2",
   "metadata": {},
   "source": [
    "### Trend Plot: `create_trend()`\n",
    "\n",
    "The `create_trend()` function provides a week-by-week heatmap view of a selected metric, grouped by an HR attribute. This helps identify trends and hotspots over time."
   ]
  },
  {
   "cell_type": "code",
   "execution_count": null,
   "id": "d2fb903e",
   "metadata": {},
   "outputs": [],
   "source": [
    "# Trend plot: Collaboration_hours by LevelDesignation\n",
    "trend_plot = vi.create_trend(\n",
    "    data=pq_data,\n",
    "    metric=\"Collaboration_hours\",\n",
    "    hrvar=\"LevelDesignation\",\n",
    "    mingroup=5,\n",
    "    return_type=\"plot\"\n",
    ")"
   ]
  },
  {
   "cell_type": "markdown",
   "id": "45970812",
   "metadata": {},
   "source": [
    "### Key Metrics Scan: `keymetrics_scan()`\n",
    "\n",
    "The `keymetrics_scan()` function summarizes multiple key metrics across a grouping variable, returning either a heatmap or a summary table. This is useful for a high-level scan of organizational health."
   ]
  },
  {
   "cell_type": "code",
   "execution_count": null,
   "id": "e67baafa",
   "metadata": {},
   "outputs": [],
   "source": [
    "# Key metrics scan: heatmap by Organization\n",
    "keymetrics_plot = vi.keymetrics_scan(\n",
    "    data=pq_data,\n",
    "    hrvar=\"Organization\",\n",
    "    mingroup=5,\n",
    "    return_type=\"plot\"\n",
    ")"
   ]
  },
  {
   "cell_type": "code",
   "execution_count": null,
   "id": "387a463d",
   "metadata": {},
   "outputs": [],
   "source": [
    "# Key metrics scan: summary table by Organization\n",
    "keymetrics_table = vi.keymetrics_scan(\n",
    "    data=pq_data,\n",
    "    hrvar=\"Organization\",\n",
    "    mingroup=5,\n",
    "    return_type=\"table\"\n",
    ")\n",
    "keymetrics_table.head()"
   ]
  },
  {
   "cell_type": "markdown",
   "id": "09b224e2",
   "metadata": {},
   "source": [
    "## Network Analysis & Flow Visualization\n",
    "\n",
    "**vivainsights** includes powerful functions for analyzing collaboration networks and visualizing flows between organizational groups.\n",
    "\n",
    "### Sankey Diagrams: Visualizing Organizational Flows\n",
    "\n",
    "The `create_sankey()` function creates flow diagrams that show how people are distributed across different organizational attributes. This is particularly useful for understanding organizational structure and identifying potential silos."
   ]
  },
  {
   "cell_type": "code",
   "execution_count": null,
   "id": "c108d499",
   "metadata": {},
   "outputs": [],
   "source": [
    "# First, create a summary table for the Sankey diagram\n",
    "# Sankey diagrams need aggregated data showing flows between two variables\n",
    "sankey_data = pq_data.groupby(['Organization', 'LevelDesignation'])['PersonId'].nunique().reset_index(name='n')\n",
    "\n",
    "# Create Sankey diagram showing flow from Organization to Level\n",
    "sankey_plot = vi.create_sankey(\n",
    "    data=sankey_data,\n",
    "    var1='Organization',  # Left side of diagram\n",
    "    var2='LevelDesignation',  # Right side of diagram  \n",
    "    count='n'  # The flow volume\n",
    ")"
   ]
  },
  {
   "cell_type": "markdown",
   "id": "00bfa83c",
   "metadata": {},
   "source": [
    "## Advanced Analytics\n",
    "\n",
    "### Information Value Analysis: Predictive Insights\n",
    "\n",
    "The `create_IV()` function helps you understand which organizational attributes are most predictive of key outcomes. This is particularly useful for identifying factors that drive engagement, performance, or retention.\n",
    "\n",
    "Information Value (IV) measures the predictive strength of variables:\n",
    "- IV < 0.02: Not useful for prediction\n",
    "- 0.02 ≤ IV < 0.1: Weak predictive power  \n",
    "- 0.1 ≤ IV < 0.3: Medium predictive power\n",
    "- 0.3 ≤ IV < 0.5: Strong predictive power\n",
    "- IV ≥ 0.5: Very strong (potentially suspicious)"
   ]
  },
  {
   "cell_type": "code",
   "execution_count": null,
   "id": "89ad06d7",
   "metadata": {},
   "outputs": [],
   "source": [
    "# Information Value analysis: Which factors predict high collaboration?\n",
    "# First, create a binary outcome variable for high collaboration (>median)\n",
    "pq_data_iv = vi.load_pq_data()\n",
    "copilot_median = pq_data_iv['Copilot_actions_taken_in_Teams'].median()\n",
    "pq_data_iv['High_Copilot'] = (pq_data_iv['Copilot_actions_taken_in_Teams'] > copilot_median).astype(int)\n",
    "\n",
    "# Define predictor variables\n",
    "predictors = ['Email_hours', 'Meeting_hours', 'Uninterrupted_hours']\n",
    "\n",
    "# Run Information Value analysis\n",
    "vi.create_IV(\n",
    "    data=pq_data_iv,\n",
    "    predictors=predictors,\n",
    "    outcome='High_Copilot',\n",
    "    return_type='plot'\n",
    ")"
   ]
  },
  {
   "cell_type": "markdown",
   "id": "bed69a43",
   "metadata": {},
   "source": [
    "## Putting It All Together: Analysis Best Practices\n",
    "\n",
    "The **vivainsights** package provides a comprehensive toolkit for organizational analytics. Here are some best practices for effective analysis:\n",
    "\n",
    "### 1. Start with Exploration\n",
    "- Use `create_rank()` and `keymetrics_scan()` to get a high-level overview\n",
    "- Apply `hrvar_count()` to understand your population segments\n",
    "- Check data quality with `identify_outlier()` and related functions\n",
    "\n",
    "### 2. Dive Deep with Distribution Analysis  \n",
    "- Use `create_boxplot()` to identify outliers and understand spread\n",
    "- Apply `create_lorenz()` to assess inequality and concentration\n",
    "- Leverage `create_inc()` to understand threshold exceedances\n",
    "\n",
    "### 3. Understand Relationships\n",
    "- Use `create_bubble()` to explore relationships between two metrics\n",
    "- Apply `create_trend()` to identify patterns over time\n",
    "- Visualize organizational flows with `create_sankey()`\n",
    "\n",
    "### 4. Advanced Insights\n",
    "- Use `create_IV()` for predictive analytics and identifying key drivers\n",
    "- Apply network analysis functions for collaboration insights\n",
    "\n",
    "### 5. Export and Share\n",
    "- All functions support `return_type='table'` for extracting underlying data\n",
    "- Use `export()` to copy tables to clipboard for easy sharing\n",
    "- Combine multiple analyses to tell compelling data stories\n",
    "\n",
    "This comprehensive approach ensures you can uncover meaningful insights about collaboration, engagement, and organizational health using Viva Insights data."
   ]
  }
 ],
 "metadata": {
  "kernelspec": {
   "display_name": "Python 3",
   "language": "python",
   "name": "python3"
  },
  "language_info": {
   "codemirror_mode": {
    "name": "ipython",
    "version": 3
   },
   "file_extension": ".py",
   "mimetype": "text/x-python",
   "name": "python",
   "nbconvert_exporter": "python",
   "pygments_lexer": "ipython3",
   "version": "3.12.10"
  }
 },
 "nbformat": 4,
 "nbformat_minor": 5
}
